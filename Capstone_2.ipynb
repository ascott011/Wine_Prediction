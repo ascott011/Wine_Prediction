{
 "cells": [
  {
   "cell_type": "code",
   "execution_count": 32,
   "metadata": {},
   "outputs": [],
   "source": [
    "import numpy as np\n",
    "import pandas as pd\n",
    "import matplotlib.pyplot as plt\n",
    "import requests\n",
    "from bs4 import BeautifulSoup\n",
    "from pandas.plotting import scatter_matrix\n",
    "import scipy.stats as stats\n",
    "import seaborn as sns\n",
    "from nltk.util import ngrams\n",
    "from nltk.tokenize import sent_tokenize, word_tokenize\n",
    "from nltk.corpus import stopwords\n",
    "from nltk.stem.snowball import  SnowballStemmer\n",
    "from nltk.stem import WordNetLemmatizer\n",
    "import string\n",
    "import warnings\n",
    "warnings.filterwarnings(\"ignore\")"
   ]
  },
  {
   "cell_type": "code",
   "execution_count": 2,
   "metadata": {},
   "outputs": [],
   "source": [
    "# importing the data\n",
    "initial_data = pd.read_csv('data/winemag-data_first150k.csv')"
   ]
  },
  {
   "cell_type": "code",
   "execution_count": 3,
   "metadata": {},
   "outputs": [],
   "source": [
    "pd.set_option('display.max_rows', None)\n",
    "pd.set_option('display.max_columns', None)\n",
    "pd.set_option('display.width', None)\n",
    "pd.set_option('display.max_colwidth', None)"
   ]
  },
  {
   "cell_type": "code",
   "execution_count": 4,
   "metadata": {},
   "outputs": [
    {
     "name": "stdout",
     "output_type": "stream",
     "text": [
      "<class 'pandas.core.frame.DataFrame'>\n",
      "RangeIndex: 150930 entries, 0 to 150929\n",
      "Data columns (total 11 columns):\n",
      " #   Column       Non-Null Count   Dtype  \n",
      "---  ------       --------------   -----  \n",
      " 0   Unnamed: 0   150930 non-null  int64  \n",
      " 1   country      150925 non-null  object \n",
      " 2   description  150930 non-null  object \n",
      " 3   designation  105195 non-null  object \n",
      " 4   points       150930 non-null  int64  \n",
      " 5   price        137235 non-null  float64\n",
      " 6   province     150925 non-null  object \n",
      " 7   region_1     125870 non-null  object \n",
      " 8   region_2     60953 non-null   object \n",
      " 9   variety      150930 non-null  object \n",
      " 10  winery       150930 non-null  object \n",
      "dtypes: float64(1), int64(2), object(8)\n",
      "memory usage: 12.7+ MB\n"
     ]
    }
   ],
   "source": [
    "initial_data.info()"
   ]
  },
  {
   "cell_type": "code",
   "execution_count": 5,
   "metadata": {},
   "outputs": [],
   "source": [
    "dropped_regions = initial_data.drop(['region_1', 'region_2', 'designation', 'winery'], axis=1)"
   ]
  },
  {
   "cell_type": "code",
   "execution_count": 6,
   "metadata": {},
   "outputs": [
    {
     "name": "stdout",
     "output_type": "stream",
     "text": [
      "<class 'pandas.core.frame.DataFrame'>\n",
      "RangeIndex: 150930 entries, 0 to 150929\n",
      "Data columns (total 7 columns):\n",
      " #   Column       Non-Null Count   Dtype  \n",
      "---  ------       --------------   -----  \n",
      " 0   Unnamed: 0   150930 non-null  int64  \n",
      " 1   country      150925 non-null  object \n",
      " 2   description  150930 non-null  object \n",
      " 3   points       150930 non-null  int64  \n",
      " 4   price        137235 non-null  float64\n",
      " 5   province     150925 non-null  object \n",
      " 6   variety      150930 non-null  object \n",
      "dtypes: float64(1), int64(2), object(4)\n",
      "memory usage: 8.1+ MB\n"
     ]
    }
   ],
   "source": [
    "dropped_regions.info()"
   ]
  },
  {
   "cell_type": "code",
   "execution_count": 7,
   "metadata": {},
   "outputs": [
    {
     "name": "stdout",
     "output_type": "stream",
     "text": [
      "Unnamed: 0         0\n",
      "country            5\n",
      "description        0\n",
      "points             0\n",
      "price          13695\n",
      "province           5\n",
      "variety            0\n",
      "dtype: int64\n"
     ]
    }
   ],
   "source": [
    "print(dropped_regions.isna().sum())"
   ]
  },
  {
   "cell_type": "code",
   "execution_count": 8,
   "metadata": {},
   "outputs": [
    {
     "data": {
      "text/plain": [
       "<AxesSubplot:>"
      ]
     },
     "execution_count": 8,
     "metadata": {},
     "output_type": "execute_result"
    },
    {
     "data": {
      "image/png": "[encoded data removed]",
      "text/plain": [
       "<Figure size 432x288 with 1 Axes>"
      ]
     },
     "metadata": {
      "needs_background": "light"
     },
     "output_type": "display_data"
    }
   ],
   "source": [
    "dropped_regions['price'].hist()"
   ]
  },
  {
   "cell_type": "code",
   "execution_count": 9,
   "metadata": {},
   "outputs": [
    {
     "data": {
      "text/plain": [
       "count    137235.000000\n",
       "mean         33.131482\n",
       "std          36.322536\n",
       "min           4.000000\n",
       "25%          16.000000\n",
       "50%          24.000000\n",
       "75%          40.000000\n",
       "max        2300.000000\n",
       "Name: price, dtype: float64"
      ]
     },
     "execution_count": 9,
     "metadata": {},
     "output_type": "execute_result"
    }
   ],
   "source": [
    "dropped_regions['price'].describe()"
   ]
  },
  {
   "cell_type": "code",
   "execution_count": 10,
   "metadata": {},
   "outputs": [
    {
     "data": {
      "text/plain": [
       "<AxesSubplot:>"
      ]
     },
     "execution_count": 10,
     "metadata": {},
     "output_type": "execute_result"
    },
    {
     "data": {
      "image/png": "[encoded data removed]",
      "text/plain": [
       "<Figure size 432x288 with 1 Axes>"
      ]
     },
     "metadata": {
      "needs_background": "light"
     },
     "output_type": "display_data"
    }
   ],
   "source": [
    "dropped_regions['points'].hist(bins=10)"
   ]
  },
  {
   "cell_type": "code",
   "execution_count": 11,
   "metadata": {},
   "outputs": [
    {
     "data": {
      "text/plain": [
       "count    150930.000000\n",
       "mean         87.888418\n",
       "std           3.222392\n",
       "min          80.000000\n",
       "25%          86.000000\n",
       "50%          88.000000\n",
       "75%          90.000000\n",
       "max         100.000000\n",
       "Name: points, dtype: float64"
      ]
     },
     "execution_count": 11,
     "metadata": {},
     "output_type": "execute_result"
    }
   ],
   "source": [
    "dropped_regions['points'].describe()"
   ]
  },
  {
   "cell_type": "code",
   "execution_count": 12,
   "metadata": {},
   "outputs": [
    {
     "data": {
      "text/plain": [
       "count     150925\n",
       "unique        48\n",
       "top           US\n",
       "freq       62397\n",
       "Name: country, dtype: object"
      ]
     },
     "execution_count": 12,
     "metadata": {},
     "output_type": "execute_result"
    }
   ],
   "source": [
    "dropped_regions['country'].describe()"
   ]
  },
  {
   "cell_type": "code",
   "execution_count": 13,
   "metadata": {},
   "outputs": [
    {
     "name": "stderr",
     "output_type": "stream",
     "text": [
      "/opt/anaconda3/lib/python3.7/site-packages/seaborn/_decorators.py:43: FutureWarning: Pass the following variables as keyword args: x, y. From version 0.12, the only valid positional argument will be `data`, and passing other arguments without an explicit keyword will result in an error or misinterpretation.\n",
      "  FutureWarning\n"
     ]
    },
    {
     "data": {
      "image/png": "[encoded data removed]",
      "text/plain": [
       "<Figure size 1080x288 with 1 Axes>"
      ]
     },
     "metadata": {
      "needs_background": "light"
     },
     "output_type": "display_data"
    }
   ],
   "source": [
    "country_count = dropped_regions['country'].value_counts()\n",
    "country_count = country_count[:15,]\n",
    "plt.figure(figsize=(15,4))\n",
    "sns.barplot(country_count.index, country_count.values, alpha=0.8)\n",
    "plt.title('Number of Reviews from Country')\n",
    "plt.ylabel('Review Count', fontsize=16)\n",
    "plt.xlabel('Country', fontsize=16)\n",
    "plt.show()"
   ]
  },
  {
   "cell_type": "code",
   "execution_count": 14,
   "metadata": {
    "collapsed": true
   },
   "outputs": [
    {
     "data": {
      "text/html": [
       "<div>\n",
       "<style scoped>\n",
       "    .dataframe tbody tr th:only-of-type {\n",
       "        vertical-align: middle;\n",
       "    }\n",
       "\n",
       "    .dataframe tbody tr th {\n",
       "        vertical-align: top;\n",
       "    }\n",
       "\n",
       "    .dataframe thead th {\n",
       "        text-align: right;\n",
       "    }\n",
       "</style>\n",
       "<table border=\"1\" class=\"dataframe\">\n",
       "  <thead>\n",
       "    <tr style=\"text-align: right;\">\n",
       "      <th></th>\n",
       "      <th>Unnamed: 0</th>\n",
       "      <th>country</th>\n",
       "      <th>description</th>\n",
       "      <th>points</th>\n",
       "      <th>price</th>\n",
       "      <th>province</th>\n",
       "      <th>variety</th>\n",
       "    </tr>\n",
       "  </thead>\n",
       "  <tbody>\n",
       "    <tr>\n",
       "      <th>0</th>\n",
       "      <td>0</td>\n",
       "      <td>US</td>\n",
       "      <td>This tremendous 100% varietal wine hails from Oakville and was aged over three years in oak. Juicy red-cherry fruit and a compelling hint of caramel greet the palate, framed by elegant, fine tannins and a subtle minty tone in the background. Balanced and rewarding from start to finish, it has years ahead of it to develop further nuance. Enjoy 2022–2030.</td>\n",
       "      <td>96</td>\n",
       "      <td>235.0</td>\n",
       "      <td>California</td>\n",
       "      <td>Cabernet Sauvignon</td>\n",
       "    </tr>\n",
       "    <tr>\n",
       "      <th>1</th>\n",
       "      <td>1</td>\n",
       "      <td>Spain</td>\n",
       "      <td>Ripe aromas of fig, blackberry and cassis are softened and sweetened by a slathering of oaky chocolate and vanilla. This is full, layered, intense and cushioned on the palate, with rich flavors of chocolaty black fruits and baking spices. A toasty, everlasting finish is heady but ideally balanced. Drink through 2023.</td>\n",
       "      <td>96</td>\n",
       "      <td>110.0</td>\n",
       "      <td>Northern Spain</td>\n",
       "      <td>Tinta de Toro</td>\n",
       "    </tr>\n",
       "    <tr>\n",
       "      <th>2</th>\n",
       "      <td>2</td>\n",
       "      <td>US</td>\n",
       "      <td>Mac Watson honors the memory of a wine once made by his mother in this tremendously delicious, balanced and complex botrytised white. Dark gold in color, it layers toasted hazelnut, pear compote and orange peel flavors, reveling in the succulence of its 122 g/L of residual sugar.</td>\n",
       "      <td>96</td>\n",
       "      <td>90.0</td>\n",
       "      <td>California</td>\n",
       "      <td>Sauvignon Blanc</td>\n",
       "    </tr>\n",
       "    <tr>\n",
       "      <th>3</th>\n",
       "      <td>3</td>\n",
       "      <td>US</td>\n",
       "      <td>This spent 20 months in 30% new French oak, and incorporates fruit from Ponzi's Aurora, Abetina and Madrona vineyards, among others. Aromatic, dense and toasty, it deftly blends aromas and flavors of toast, cigar box, blackberry, black cherry, coffee and graphite. Tannins are polished to a fine sheen, and frame a finish loaded with dark chocolate and espresso. Drink now through 2032.</td>\n",
       "      <td>96</td>\n",
       "      <td>65.0</td>\n",
       "      <td>Oregon</td>\n",
       "      <td>Pinot Noir</td>\n",
       "    </tr>\n",
       "    <tr>\n",
       "      <th>4</th>\n",
       "      <td>4</td>\n",
       "      <td>France</td>\n",
       "      <td>This is the top wine from La Bégude, named after the highest point in the vineyard at 1200 feet. It has structure, density and considerable acidity that is still calming down. With 18 months in wood, the wine has developing an extra richness and concentration. Produced by the Tari family, formerly of Château Giscours in Margaux, it is a wine made for aging. Drink from 2020.</td>\n",
       "      <td>95</td>\n",
       "      <td>66.0</td>\n",
       "      <td>Provence</td>\n",
       "      <td>Provence red blend</td>\n",
       "    </tr>\n",
       "  </tbody>\n",
       "</table>\n",
       "</div>"
      ],
      "text/plain": [
       "   Unnamed: 0 country  \\\n",
       "0           0      US   \n",
       "1           1   Spain   \n",
       "2           2      US   \n",
       "3           3      US   \n",
       "4           4  France   \n",
       "\n",
       "                                                                                                                                                                                                                                                                                                                                                                                          description  \\\n",
       "0                                 This tremendous 100% varietal wine hails from Oakville and was aged over three years in oak. Juicy red-cherry fruit and a compelling hint of caramel greet the palate, framed by elegant, fine tannins and a subtle minty tone in the background. Balanced and rewarding from start to finish, it has years ahead of it to develop further nuance. Enjoy 2022–2030.   \n",
       "1                                                                      Ripe aromas of fig, blackberry and cassis are softened and sweetened by a slathering of oaky chocolate and vanilla. This is full, layered, intense and cushioned on the palate, with rich flavors of chocolaty black fruits and baking spices. A toasty, everlasting finish is heady but ideally balanced. Drink through 2023.   \n",
       "2                                                                                                            Mac Watson honors the memory of a wine once made by his mother in this tremendously delicious, balanced and complex botrytised white. Dark gold in color, it layers toasted hazelnut, pear compote and orange peel flavors, reveling in the succulence of its 122 g/L of residual sugar.   \n",
       "3  This spent 20 months in 30% new French oak, and incorporates fruit from Ponzi's Aurora, Abetina and Madrona vineyards, among others. Aromatic, dense and toasty, it deftly blends aromas and flavors of toast, cigar box, blackberry, black cherry, coffee and graphite. Tannins are polished to a fine sheen, and frame a finish loaded with dark chocolate and espresso. Drink now through 2032.   \n",
       "4            This is the top wine from La Bégude, named after the highest point in the vineyard at 1200 feet. It has structure, density and considerable acidity that is still calming down. With 18 months in wood, the wine has developing an extra richness and concentration. Produced by the Tari family, formerly of Château Giscours in Margaux, it is a wine made for aging. Drink from 2020.   \n",
       "\n",
       "   points  price        province             variety  \n",
       "0      96  235.0      California  Cabernet Sauvignon  \n",
       "1      96  110.0  Northern Spain       Tinta de Toro  \n",
       "2      96   90.0      California     Sauvignon Blanc  \n",
       "3      96   65.0          Oregon          Pinot Noir  \n",
       "4      95   66.0        Provence  Provence red blend  "
      ]
     },
     "execution_count": 14,
     "metadata": {},
     "output_type": "execute_result"
    }
   ],
   "source": [
    "dropped_regions.head()"
   ]
  },
  {
   "cell_type": "code",
   "execution_count": null,
   "metadata": {},
   "outputs": [],
   "source": []
  },
  {
   "cell_type": "code",
   "execution_count": 15,
   "metadata": {},
   "outputs": [
    {
     "data": {
      "text/plain": [
       "632"
      ]
     },
     "execution_count": 15,
     "metadata": {},
     "output_type": "execute_result"
    }
   ],
   "source": [
    "variety_count = dropped_regions['variety'].value_counts()\n",
    "len(variety_count)\n"
   ]
  },
  {
   "cell_type": "code",
   "execution_count": 16,
   "metadata": {},
   "outputs": [
    {
     "data": {
      "text/plain": [
       "(109900, 7)"
      ]
     },
     "execution_count": 16,
     "metadata": {},
     "output_type": "execute_result"
    }
   ],
   "source": [
    "#selecting the kinds of grape variety I want to test\n",
    "new_df = dropped_regions[(dropped_regions['variety'] == 'Chardonnay') | (dropped_regions['variety'] == 'Pinot Noir') | (dropped_regions['variety'] == 'Cabernet Sauvignon') | (dropped_regions['variety'] == 'Bordeaux-style Red Blend') | (dropped_regions['variety'] == 'Red Blend') | (dropped_regions['variety'] == 'Sauvignon Blanc') | (dropped_regions['variety'] == 'Syrah') | (dropped_regions['variety'] == 'Riesling') | (dropped_regions['variety'] == 'Merlot') | (dropped_regions['variety'] == 'Zinfandel') | (dropped_regions['variety'] == 'Sangiovese') | (dropped_regions['variety'] == 'Malbec') | (dropped_regions['variety'] == 'Tempranillo') | (dropped_regions['variety'] == 'Nebbiolo') | (dropped_regions['variety'] == 'Shiraz') | (dropped_regions['variety'] == 'Molinara') | (dropped_regions['variety'] == 'Barbera') | (dropped_regions['variety'] == 'Pinot Gris') | (dropped_regions['variety'] == 'Cabernet Franc') | (dropped_regions['variety'] == 'Pinot Grigio') | (dropped_regions['variety'] == 'Viognier') | (dropped_regions['variety'] == 'Grüner Veltliner') | (dropped_regions['variety'] == 'Gewürztraminer') | (dropped_regions['variety'] == 'Chenin Blanc') | (dropped_regions['variety'] == 'Glera') | (dropped_regions['variety'] == 'Albariño') | (dropped_regions['variety'] == 'Pinot Blanc')]\n",
    "new_df.shape"
   ]
  },
  {
   "cell_type": "code",
   "execution_count": 17,
   "metadata": {
    "collapsed": true
   },
   "outputs": [
    {
     "data": {
      "text/plain": [
       "Chardonnay                  14482\n",
       "Pinot Noir                  14291\n",
       "Cabernet Sauvignon          12800\n",
       "Red Blend                   10062\n",
       "Bordeaux-style Red Blend     7347\n",
       "Sauvignon Blanc              6320\n",
       "Syrah                        5825\n",
       "Riesling                     5524\n",
       "Merlot                       5070\n",
       "Zinfandel                    3799\n",
       "Sangiovese                   3345\n",
       "Malbec                       3208\n",
       "Tempranillo                  2556\n",
       "Nebbiolo                     2241\n",
       "Shiraz                       1970\n",
       "Pinot Gris                   1365\n",
       "Barbera                      1365\n",
       "Cabernet Franc               1363\n",
       "Pinot Grigio                 1305\n",
       "Viognier                     1263\n",
       "Grüner Veltliner             1042\n",
       "Gewürztraminer                982\n",
       "Chenin Blanc                  746\n",
       "Glera                         622\n",
       "Albariño                      537\n",
       "Pinot Blanc                   470\n",
       "Name: variety, dtype: int64"
      ]
     },
     "execution_count": 17,
     "metadata": {},
     "output_type": "execute_result"
    }
   ],
   "source": [
    "variety_count_2 = new_df['variety'].value_counts()\n",
    "variety_count_2"
   ]
  },
  {
   "cell_type": "code",
   "execution_count": 46,
   "metadata": {},
   "outputs": [],
   "source": [
    "# adding a column that says whether the wine is red or white based on the grape variety\n",
    "kind = []\n",
    "for wine in new_df['variety']:\n",
    "    if wine == 'Chardonnay':\n",
    "        kind.append('White')\n",
    "    if wine == 'Pinot Noir':\n",
    "        kind.append('Red')\n",
    "    if wine == 'Cabernet Sauvignon':\n",
    "        kind.append('Red')\n",
    "    if wine == 'Red Blend':\n",
    "        kind.append('Red')\n",
    "    if wine == 'Bordeaux-style Red Blend':\n",
    "        kind.append('Red')\n",
    "    if wine == 'Sauvignon Blanc':\n",
    "        kind.append('White')\n",
    "    if wine == 'Syrah':\n",
    "        kind.append('Red')\n",
    "    if wine == 'Riesling':\n",
    "        kind.append('White')\n",
    "    if wine == 'Merlot':\n",
    "        kind.append('Red')\n",
    "    if wine == 'Zinfandel':\n",
    "        kind.append('Red')\n",
    "    if wine == 'Sangiovese':\n",
    "        kind.append('Red')\n",
    "    if wine == 'Malbec':\n",
    "        kind.append('Red')\n",
    "    if wine == 'Tempranillo':\n",
    "        kind.append('Red')\n",
    "    if wine == 'Nebbiolo':\n",
    "        kind.append('Red')\n",
    "    if wine == 'Shiraz':\n",
    "        kind.append('Red')\n",
    "    if wine == 'Barbera':\n",
    "        kind.append('Red')\n",
    "    if wine == 'Pinot Gris':\n",
    "        kind.append('White')\n",
    "    if wine == 'Cabernet Franc':\n",
    "        kind.append('Red')\n",
    "    if wine == 'Pinot Grigio':\n",
    "        kind.append('White')\n",
    "    if wine == 'Viognier':\n",
    "        kind.append('White')\n",
    "    if wine == 'Grüner Veltliner':\n",
    "        kind.append('White')\n",
    "    if wine == 'Gewürztraminer':\n",
    "        kind.append('White')\n",
    "    if wine == 'Chenin Blanc':\n",
    "        kind.append('White')\n",
    "    if wine == 'Glera':\n",
    "        kind.append('White')\n",
    "    if wine == 'Albariño':\n",
    "        kind.append('White')\n",
    "    if wine == 'Pinot Blanc':\n",
    "        kind.append('White')\n",
    "    \n",
    "\n",
    "new_df['Red/White'] = kind\n"
   ]
  },
  {
   "cell_type": "code",
   "execution_count": 45,
   "metadata": {},
   "outputs": [
    {
     "data": {
      "image/png": "[encoded data removed]",
      "text/plain": [
       "<Figure size 576x288 with 1 Axes>"
      ]
     },
     "metadata": {
      "needs_background": "light"
     },
     "output_type": "display_data"
    }
   ],
   "source": [
    "red_white_count = new_df['Red/White'].value_counts()\n",
    "\n",
    "\n",
    "plt.figure(figsize=(8,4))\n",
    "sns.barplot(red_white_count.index, red_white_count.values, alpha=0.8)\n",
    "plt.title('Red vs. White Wine')\n",
    "plt.ylabel('Review Count', fontsize=16)\n",
    "plt.xlabel('Country', fontsize=16)\n",
    "plt.show()"
   ]
  },
  {
   "cell_type": "code",
   "execution_count": 59,
   "metadata": {},
   "outputs": [
    {
     "data": {
      "image/png": "[encoded data removed]",
      "text/plain": [
       "<Figure size 864x576 with 1 Axes>"
      ]
     },
     "metadata": {
      "needs_background": "light"
     },
     "output_type": "display_data"
    }
   ],
   "source": [
    "red_white_count = new_df['variety'].value_counts()\n",
    "\n",
    "\n",
    "plt.figure(figsize=(12,8))\n",
    "sns.barplot(y = red_white_count.index, x = red_white_count.values,  alpha=0.8)\n",
    "plt.title('Wine Varieties', fontsize=16)\n",
    "plt.ylabel('Grape Varieties', fontsize=10)\n",
    "plt.xlabel('Amount of Varieties Reviewed', fontsize=16)\n",
    "plt.show()"
   ]
  },
  {
   "cell_type": "code",
   "execution_count": 20,
   "metadata": {},
   "outputs": [
    {
     "data": {
      "text/html": [
       "<div>\n",
       "<style scoped>\n",
       "    .dataframe tbody tr th:only-of-type {\n",
       "        vertical-align: middle;\n",
       "    }\n",
       "\n",
       "    .dataframe tbody tr th {\n",
       "        vertical-align: top;\n",
       "    }\n",
       "\n",
       "    .dataframe thead th {\n",
       "        text-align: right;\n",
       "    }\n",
       "</style>\n",
       "<table border=\"1\" class=\"dataframe\">\n",
       "  <thead>\n",
       "    <tr style=\"text-align: right;\">\n",
       "      <th></th>\n",
       "      <th>Unnamed: 0</th>\n",
       "      <th>country</th>\n",
       "      <th>description</th>\n",
       "      <th>points</th>\n",
       "      <th>price</th>\n",
       "      <th>province</th>\n",
       "      <th>variety</th>\n",
       "      <th>Red/White</th>\n",
       "    </tr>\n",
       "  </thead>\n",
       "  <tbody>\n",
       "    <tr>\n",
       "      <th>0</th>\n",
       "      <td>0</td>\n",
       "      <td>US</td>\n",
       "      <td>This tremendous 100% varietal wine hails from Oakville and was aged over three years in oak. Juicy red-cherry fruit and a compelling hint of caramel greet the palate, framed by elegant, fine tannins and a subtle minty tone in the background. Balanced and rewarding from start to finish, it has years ahead of it to develop further nuance. Enjoy 2022–2030.</td>\n",
       "      <td>96</td>\n",
       "      <td>235.0</td>\n",
       "      <td>California</td>\n",
       "      <td>Cabernet Sauvignon</td>\n",
       "      <td>Red</td>\n",
       "    </tr>\n",
       "    <tr>\n",
       "      <th>2</th>\n",
       "      <td>2</td>\n",
       "      <td>US</td>\n",
       "      <td>Mac Watson honors the memory of a wine once made by his mother in this tremendously delicious, balanced and complex botrytised white. Dark gold in color, it layers toasted hazelnut, pear compote and orange peel flavors, reveling in the succulence of its 122 g/L of residual sugar.</td>\n",
       "      <td>96</td>\n",
       "      <td>90.0</td>\n",
       "      <td>California</td>\n",
       "      <td>Sauvignon Blanc</td>\n",
       "      <td>White</td>\n",
       "    </tr>\n",
       "    <tr>\n",
       "      <th>3</th>\n",
       "      <td>3</td>\n",
       "      <td>US</td>\n",
       "      <td>This spent 20 months in 30% new French oak, and incorporates fruit from Ponzi's Aurora, Abetina and Madrona vineyards, among others. Aromatic, dense and toasty, it deftly blends aromas and flavors of toast, cigar box, blackberry, black cherry, coffee and graphite. Tannins are polished to a fine sheen, and frame a finish loaded with dark chocolate and espresso. Drink now through 2032.</td>\n",
       "      <td>96</td>\n",
       "      <td>65.0</td>\n",
       "      <td>Oregon</td>\n",
       "      <td>Pinot Noir</td>\n",
       "      <td>Red</td>\n",
       "    </tr>\n",
       "    <tr>\n",
       "      <th>8</th>\n",
       "      <td>8</td>\n",
       "      <td>US</td>\n",
       "      <td>This re-named vineyard was formerly bottled as deLancellotti. You'll find striking minerality underscoring chunky black fruits. Accents of citrus and graphite comingle, with exceptional midpalate concentration. This is a wine to cellar, though it is already quite enjoyable. Drink now through 2030.</td>\n",
       "      <td>95</td>\n",
       "      <td>65.0</td>\n",
       "      <td>Oregon</td>\n",
       "      <td>Pinot Noir</td>\n",
       "      <td>Red</td>\n",
       "    </tr>\n",
       "    <tr>\n",
       "      <th>9</th>\n",
       "      <td>9</td>\n",
       "      <td>US</td>\n",
       "      <td>The producer sources from two blocks of the vineyard for this wine—one at a high elevation, which contributes bright acidity. Crunchy cranberry, pomegranate and orange peel flavors surround silky, succulent layers of texture that present as fleshy fruit. That delicately lush flavor has considerable length.</td>\n",
       "      <td>95</td>\n",
       "      <td>60.0</td>\n",
       "      <td>California</td>\n",
       "      <td>Pinot Noir</td>\n",
       "      <td>Red</td>\n",
       "    </tr>\n",
       "  </tbody>\n",
       "</table>\n",
       "</div>"
      ],
      "text/plain": [
       "   Unnamed: 0 country  \\\n",
       "0           0      US   \n",
       "2           2      US   \n",
       "3           3      US   \n",
       "8           8      US   \n",
       "9           9      US   \n",
       "\n",
       "                                                                                                                                                                                                                                                                                                                                                                                          description  \\\n",
       "0                                 This tremendous 100% varietal wine hails from Oakville and was aged over three years in oak. Juicy red-cherry fruit and a compelling hint of caramel greet the palate, framed by elegant, fine tannins and a subtle minty tone in the background. Balanced and rewarding from start to finish, it has years ahead of it to develop further nuance. Enjoy 2022–2030.   \n",
       "2                                                                                                            Mac Watson honors the memory of a wine once made by his mother in this tremendously delicious, balanced and complex botrytised white. Dark gold in color, it layers toasted hazelnut, pear compote and orange peel flavors, reveling in the succulence of its 122 g/L of residual sugar.   \n",
       "3  This spent 20 months in 30% new French oak, and incorporates fruit from Ponzi's Aurora, Abetina and Madrona vineyards, among others. Aromatic, dense and toasty, it deftly blends aromas and flavors of toast, cigar box, blackberry, black cherry, coffee and graphite. Tannins are polished to a fine sheen, and frame a finish loaded with dark chocolate and espresso. Drink now through 2032.   \n",
       "8                                                                                          This re-named vineyard was formerly bottled as deLancellotti. You'll find striking minerality underscoring chunky black fruits. Accents of citrus and graphite comingle, with exceptional midpalate concentration. This is a wine to cellar, though it is already quite enjoyable. Drink now through 2030.   \n",
       "9                                                                                 The producer sources from two blocks of the vineyard for this wine—one at a high elevation, which contributes bright acidity. Crunchy cranberry, pomegranate and orange peel flavors surround silky, succulent layers of texture that present as fleshy fruit. That delicately lush flavor has considerable length.   \n",
       "\n",
       "   points  price    province             variety Red/White  \n",
       "0      96  235.0  California  Cabernet Sauvignon       Red  \n",
       "2      96   90.0  California     Sauvignon Blanc     White  \n",
       "3      96   65.0      Oregon          Pinot Noir       Red  \n",
       "8      95   65.0      Oregon          Pinot Noir       Red  \n",
       "9      95   60.0  California          Pinot Noir       Red  "
      ]
     },
     "execution_count": 20,
     "metadata": {},
     "output_type": "execute_result"
    }
   ],
   "source": [
    "new_df.head()"
   ]
  },
  {
   "cell_type": "code",
   "execution_count": 35,
   "metadata": {},
   "outputs": [],
   "source": [
    "#being NLP process\n",
    "#lowercase words\n",
    "for i, words in new_df['description']:\n",
    "    new_df['description'] = words.lower()\n",
    "\n"
   ]
  },
  {
   "cell_type": "code",
   "execution_count": 38,
   "metadata": {},
   "outputs": [],
   "source": [
    "#tokenize\n",
    "for i,words in enumerate(new_df['description']):\n",
    "    new_df['description'][i] = word_tokenize(words) \n"
   ]
  },
  {
   "cell_type": "code",
   "execution_count": 40,
   "metadata": {},
   "outputs": [],
   "source": [
    "#strip punctuation \n",
    "pt = string.punctuation\n",
    "for i,words in enumerate(new_df['description']):\n",
    "    new_df['description'][i] = [word for word in words if not word in pt]\n",
    "    \n"
   ]
  },
  {
   "cell_type": "code",
   "execution_count": 43,
   "metadata": {},
   "outputs": [],
   "source": [
    "#removing stop words\n",
    "sw = stopwords.words('english')\n",
    "for i,words in enumerate(new_df['description']):\n",
    "    new_df['description'][i] = [token for token in words if token not in sw]\n"
   ]
  },
  {
   "cell_type": "code",
   "execution_count": null,
   "metadata": {},
   "outputs": [],
   "source": []
  },
  {
   "cell_type": "code",
   "execution_count": 64,
   "metadata": {},
   "outputs": [
    {
     "data": {
      "text/html": [
       "<div>\n",
       "<style scoped>\n",
       "    .dataframe tbody tr th:only-of-type {\n",
       "        vertical-align: middle;\n",
       "    }\n",
       "\n",
       "    .dataframe tbody tr th {\n",
       "        vertical-align: top;\n",
       "    }\n",
       "\n",
       "    .dataframe thead th {\n",
       "        text-align: right;\n",
       "    }\n",
       "</style>\n",
       "<table border=\"1\" class=\"dataframe\">\n",
       "  <thead>\n",
       "    <tr style=\"text-align: right;\">\n",
       "      <th></th>\n",
       "      <th>Unnamed: 0</th>\n",
       "      <th>country</th>\n",
       "      <th>description</th>\n",
       "      <th>points</th>\n",
       "      <th>price</th>\n",
       "      <th>province</th>\n",
       "      <th>variety</th>\n",
       "      <th>Red/White</th>\n",
       "    </tr>\n",
       "  </thead>\n",
       "  <tbody>\n",
       "    <tr>\n",
       "      <th>0</th>\n",
       "      <td>0</td>\n",
       "      <td>US</td>\n",
       "      <td>[tremendous, 100, varietal, wine, hails, oakville, aged, three, years, oak, juicy, red-cherry, fruit, compelling, hint, caramel, greet, palate, framed, elegant, fine, tannins, subtle, minty, tone, background, balanced, rewarding, start, finish, years, ahead, develop, nuance, enjoy, 2022–2030]</td>\n",
       "      <td>96</td>\n",
       "      <td>235.0</td>\n",
       "      <td>California</td>\n",
       "      <td>Cabernet Sauvignon</td>\n",
       "      <td>Red</td>\n",
       "    </tr>\n",
       "    <tr>\n",
       "      <th>2</th>\n",
       "      <td>2</td>\n",
       "      <td>US</td>\n",
       "      <td>[tremendous, 100, varietal, wine, hails, oakville, aged, three, years, oak, juicy, red-cherry, fruit, compelling, hint, caramel, greet, palate, framed, elegant, fine, tannins, subtle, minty, tone, background, balanced, rewarding, start, finish, years, ahead, develop, nuance, enjoy, 2022–2030]</td>\n",
       "      <td>96</td>\n",
       "      <td>90.0</td>\n",
       "      <td>California</td>\n",
       "      <td>Sauvignon Blanc</td>\n",
       "      <td>White</td>\n",
       "    </tr>\n",
       "    <tr>\n",
       "      <th>3</th>\n",
       "      <td>3</td>\n",
       "      <td>US</td>\n",
       "      <td>[tremendous, 100, varietal, wine, hails, oakville, aged, three, years, oak, juicy, red-cherry, fruit, compelling, hint, caramel, greet, palate, framed, elegant, fine, tannins, subtle, minty, tone, background, balanced, rewarding, start, finish, years, ahead, develop, nuance, enjoy, 2022–2030]</td>\n",
       "      <td>96</td>\n",
       "      <td>65.0</td>\n",
       "      <td>Oregon</td>\n",
       "      <td>Pinot Noir</td>\n",
       "      <td>Red</td>\n",
       "    </tr>\n",
       "  </tbody>\n",
       "</table>\n",
       "</div>"
      ],
      "text/plain": [
       "   Unnamed: 0 country  \\\n",
       "0           0      US   \n",
       "2           2      US   \n",
       "3           3      US   \n",
       "\n",
       "                                                                                                                                                                                                                                                                                             description  \\\n",
       "0  [tremendous, 100, varietal, wine, hails, oakville, aged, three, years, oak, juicy, red-cherry, fruit, compelling, hint, caramel, greet, palate, framed, elegant, fine, tannins, subtle, minty, tone, background, balanced, rewarding, start, finish, years, ahead, develop, nuance, enjoy, 2022–2030]   \n",
       "2  [tremendous, 100, varietal, wine, hails, oakville, aged, three, years, oak, juicy, red-cherry, fruit, compelling, hint, caramel, greet, palate, framed, elegant, fine, tannins, subtle, minty, tone, background, balanced, rewarding, start, finish, years, ahead, develop, nuance, enjoy, 2022–2030]   \n",
       "3  [tremendous, 100, varietal, wine, hails, oakville, aged, three, years, oak, juicy, red-cherry, fruit, compelling, hint, caramel, greet, palate, framed, elegant, fine, tannins, subtle, minty, tone, background, balanced, rewarding, start, finish, years, ahead, develop, nuance, enjoy, 2022–2030]   \n",
       "\n",
       "   points  price    province             variety Red/White  \n",
       "0      96  235.0  California  Cabernet Sauvignon       Red  \n",
       "2      96   90.0  California     Sauvignon Blanc     White  \n",
       "3      96   65.0      Oregon          Pinot Noir       Red  "
      ]
     },
     "execution_count": 64,
     "metadata": {},
     "output_type": "execute_result"
    }
   ],
   "source": [
    "new_df.head(3)"
   ]
  },
  {
   "cell_type": "code",
   "execution_count": 63,
   "metadata": {},
   "outputs": [
    {
     "data": {
      "text/plain": [
       "{'p': 0,\n",
       " 'start': 1,\n",
       " '–': 2,\n",
       " 'minty': 3,\n",
       " 'fine': 4,\n",
       " 'tremendous': 5,\n",
       " 'rewarding': 6,\n",
       " 'o': 7,\n",
       " 'w': 8,\n",
       " 'aged': 9,\n",
       " 'elegant': 10,\n",
       " 'ahead': 11,\n",
       " '%': 12,\n",
       " 'n': 13,\n",
       " '.': 14,\n",
       " 'greet': 15,\n",
       " 'fruit': 16,\n",
       " 'three': 17,\n",
       " 'years': 18,\n",
       " 'subtle': 19,\n",
       " 'v': 20,\n",
       " 'd': 21,\n",
       " ' ': 22,\n",
       " 'g': 23,\n",
       " 's': 24,\n",
       " '3': 25,\n",
       " '0': 26,\n",
       " 'framed': 27,\n",
       " 'palate': 28,\n",
       " 'oak': 29,\n",
       " 'hails': 30,\n",
       " 'tannins': 31,\n",
       " 'hint': 32,\n",
       " 'red-cherry': 33,\n",
       " 'finish': 34,\n",
       " 'l': 35,\n",
       " 'a': 36,\n",
       " 'compelling': 37,\n",
       " 'wine': 38,\n",
       " '2022–2030': 39,\n",
       " 't': 40,\n",
       " '100': 41,\n",
       " 'h': 42,\n",
       " 'c': 43,\n",
       " 'nuance': 44,\n",
       " 'b': 45,\n",
       " 'balanced': 46,\n",
       " 'enjoy': 47,\n",
       " '2': 48,\n",
       " 'f': 49,\n",
       " '1': 50,\n",
       " ',': 51,\n",
       " 'j': 52,\n",
       " 'varietal': 53,\n",
       " 'u': 54,\n",
       " '-': 55,\n",
       " 'm': 56,\n",
       " 'k': 57,\n",
       " 'develop': 58,\n",
       " 'juicy': 59,\n",
       " 'r': 60,\n",
       " 'y': 61,\n",
       " 'i': 62,\n",
       " 'caramel': 63,\n",
       " 'e': 64,\n",
       " 'oakville': 65,\n",
       " 'background': 66,\n",
       " 'tone': 67}"
      ]
     },
     "execution_count": 63,
     "metadata": {},
     "output_type": "execute_result"
    }
   ],
   "source": [
    "# creating the vocabulary and initializing the BoW matrix\n",
    "vocabulary = set()\n",
    "for words in new_df['description']:\n",
    "    for token in words:\n",
    "        vocabulary.add(token)\n",
    "\n",
    "vocabulary_lookup = {word: i for i, word in enumerate(vocabulary)}\n",
    "matrix = np.zeros((len(new_df['description']), len(vocabulary)))\n",
    "vocabulary_lookup\n",
    "\n"
   ]
  },
  {
   "cell_type": "code",
   "execution_count": null,
   "metadata": {},
   "outputs": [],
   "source": []
  }
 ],
 "metadata": {
  "kernelspec": {
   "display_name": "Python 3",
   "language": "python",
   "name": "python3"
  },
  "language_info": {
   "codemirror_mode": {
    "name": "ipython",
    "version": 3
   },
   "file_extension": ".py",
   "mimetype": "text/x-python",
   "name": "python",
   "nbconvert_exporter": "python",
   "pygments_lexer": "ipython3",
   "version": "3.7.9"
  }
 },
 "nbformat": 4,
 "nbformat_minor": 4
}
