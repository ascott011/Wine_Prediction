{
 "cells": [
  {
   "cell_type": "code",
   "execution_count": 1,
   "metadata": {},
   "outputs": [],
   "source": [
    "import numpy as np\n",
    "import pandas as pd\n",
    "import matplotlib.pyplot as plt\n",
    "import requests\n",
    "from bs4 import BeautifulSoup\n",
    "from pandas.plotting import scatter_matrix\n",
    "import scipy.stats as stats\n",
    "import seaborn as sns\n",
    "from nltk.util import ngrams\n",
    "from nltk.tokenize import sent_tokenize, word_tokenize\n",
    "from nltk.corpus import stopwords\n",
    "from nltk.stem.snowball import  SnowballStemmer\n",
    "from nltk.stem import WordNetLemmatizer\n",
    "from sklearn.feature_extraction.text import TfidfVectorizer, CountVectorizer\n",
    "from sklearn import datasets, linear_model, pipeline, feature_extraction, ensemble, neighbors, tree\n",
    "from sklearn.model_selection import train_test_split, cross_val_score\n",
    "from sklearn.metrics import confusion_matrix, plot_confusion_matrix, accuracy_score, balanced_accuracy_score\n",
    "from sklearn.naive_bayes import MultinomialNB\n",
    "from sklearn.linear_model import LinearRegression\n",
    "from sklearn.tree import DecisionTreeClassifier, DecisionTreeRegressor\n",
    "from sklearn.ensemble import RandomForestClassifier\n",
    "import string\n",
    "import sys\n",
    "import warnings\n",
    "warnings.filterwarnings(\"ignore\")\n",
    "import pprint"
   ]
  },
  {
   "cell_type": "code",
   "execution_count": 2,
   "metadata": {},
   "outputs": [],
   "source": [
    "# importing the data\n",
    "initial_data = pd.read_csv('data/winemag-data_first150k.csv')"
   ]
  },
  {
   "cell_type": "code",
   "execution_count": 3,
   "metadata": {},
   "outputs": [
    {
     "data": {
      "text/html": [
       "<div>\n",
       "<style scoped>\n",
       "    .dataframe tbody tr th:only-of-type {\n",
       "        vertical-align: middle;\n",
       "    }\n",
       "\n",
       "    .dataframe tbody tr th {\n",
       "        vertical-align: top;\n",
       "    }\n",
       "\n",
       "    .dataframe thead th {\n",
       "        text-align: right;\n",
       "    }\n",
       "</style>\n",
       "<table border=\"1\" class=\"dataframe\">\n",
       "  <thead>\n",
       "    <tr style=\"text-align: right;\">\n",
       "      <th></th>\n",
       "      <th>Unnamed: 0</th>\n",
       "      <th>country</th>\n",
       "      <th>description</th>\n",
       "      <th>designation</th>\n",
       "      <th>points</th>\n",
       "      <th>price</th>\n",
       "      <th>province</th>\n",
       "      <th>region_1</th>\n",
       "      <th>region_2</th>\n",
       "      <th>variety</th>\n",
       "      <th>winery</th>\n",
       "    </tr>\n",
       "  </thead>\n",
       "  <tbody>\n",
       "    <tr>\n",
       "      <th>0</th>\n",
       "      <td>0</td>\n",
       "      <td>US</td>\n",
       "      <td>This tremendous 100% varietal wine hails from ...</td>\n",
       "      <td>Martha's Vineyard</td>\n",
       "      <td>96</td>\n",
       "      <td>235.0</td>\n",
       "      <td>California</td>\n",
       "      <td>Napa Valley</td>\n",
       "      <td>Napa</td>\n",
       "      <td>Cabernet Sauvignon</td>\n",
       "      <td>Heitz</td>\n",
       "    </tr>\n",
       "    <tr>\n",
       "      <th>1</th>\n",
       "      <td>1</td>\n",
       "      <td>Spain</td>\n",
       "      <td>Ripe aromas of fig, blackberry and cassis are ...</td>\n",
       "      <td>Carodorum Selección Especial Reserva</td>\n",
       "      <td>96</td>\n",
       "      <td>110.0</td>\n",
       "      <td>Northern Spain</td>\n",
       "      <td>Toro</td>\n",
       "      <td>NaN</td>\n",
       "      <td>Tinta de Toro</td>\n",
       "      <td>Bodega Carmen Rodríguez</td>\n",
       "    </tr>\n",
       "    <tr>\n",
       "      <th>2</th>\n",
       "      <td>2</td>\n",
       "      <td>US</td>\n",
       "      <td>Mac Watson honors the memory of a wine once ma...</td>\n",
       "      <td>Special Selected Late Harvest</td>\n",
       "      <td>96</td>\n",
       "      <td>90.0</td>\n",
       "      <td>California</td>\n",
       "      <td>Knights Valley</td>\n",
       "      <td>Sonoma</td>\n",
       "      <td>Sauvignon Blanc</td>\n",
       "      <td>Macauley</td>\n",
       "    </tr>\n",
       "    <tr>\n",
       "      <th>3</th>\n",
       "      <td>3</td>\n",
       "      <td>US</td>\n",
       "      <td>This spent 20 months in 30% new French oak, an...</td>\n",
       "      <td>Reserve</td>\n",
       "      <td>96</td>\n",
       "      <td>65.0</td>\n",
       "      <td>Oregon</td>\n",
       "      <td>Willamette Valley</td>\n",
       "      <td>Willamette Valley</td>\n",
       "      <td>Pinot Noir</td>\n",
       "      <td>Ponzi</td>\n",
       "    </tr>\n",
       "    <tr>\n",
       "      <th>4</th>\n",
       "      <td>4</td>\n",
       "      <td>France</td>\n",
       "      <td>This is the top wine from La Bégude, named aft...</td>\n",
       "      <td>La Brûlade</td>\n",
       "      <td>95</td>\n",
       "      <td>66.0</td>\n",
       "      <td>Provence</td>\n",
       "      <td>Bandol</td>\n",
       "      <td>NaN</td>\n",
       "      <td>Provence red blend</td>\n",
       "      <td>Domaine de la Bégude</td>\n",
       "    </tr>\n",
       "  </tbody>\n",
       "</table>\n",
       "</div>"
      ],
      "text/plain": [
       "   Unnamed: 0 country                                        description  \\\n",
       "0           0      US  This tremendous 100% varietal wine hails from ...   \n",
       "1           1   Spain  Ripe aromas of fig, blackberry and cassis are ...   \n",
       "2           2      US  Mac Watson honors the memory of a wine once ma...   \n",
       "3           3      US  This spent 20 months in 30% new French oak, an...   \n",
       "4           4  France  This is the top wine from La Bégude, named aft...   \n",
       "\n",
       "                            designation  points  price        province  \\\n",
       "0                     Martha's Vineyard      96  235.0      California   \n",
       "1  Carodorum Selección Especial Reserva      96  110.0  Northern Spain   \n",
       "2         Special Selected Late Harvest      96   90.0      California   \n",
       "3                               Reserve      96   65.0          Oregon   \n",
       "4                            La Brûlade      95   66.0        Provence   \n",
       "\n",
       "            region_1           region_2             variety  \\\n",
       "0        Napa Valley               Napa  Cabernet Sauvignon   \n",
       "1               Toro                NaN       Tinta de Toro   \n",
       "2     Knights Valley             Sonoma     Sauvignon Blanc   \n",
       "3  Willamette Valley  Willamette Valley          Pinot Noir   \n",
       "4             Bandol                NaN  Provence red blend   \n",
       "\n",
       "                    winery  \n",
       "0                    Heitz  \n",
       "1  Bodega Carmen Rodríguez  \n",
       "2                 Macauley  \n",
       "3                    Ponzi  \n",
       "4     Domaine de la Bégude  "
      ]
     },
     "execution_count": 3,
     "metadata": {},
     "output_type": "execute_result"
    }
   ],
   "source": [
    "initial_data.head()"
   ]
  },
  {
   "cell_type": "code",
   "execution_count": 4,
   "metadata": {},
   "outputs": [],
   "source": [
    "pd.set_option('display.max_rows', None)\n",
    "pd.set_option('display.max_columns', None)\n",
    "pd.set_option('display.width', None)\n",
    "pd.set_option('display.max_colwidth', None)"
   ]
  },
  {
   "cell_type": "code",
   "execution_count": 5,
   "metadata": {},
   "outputs": [
    {
     "name": "stdout",
     "output_type": "stream",
     "text": [
      "<class 'pandas.core.frame.DataFrame'>\n",
      "RangeIndex: 150930 entries, 0 to 150929\n",
      "Data columns (total 11 columns):\n",
      " #   Column       Non-Null Count   Dtype  \n",
      "---  ------       --------------   -----  \n",
      " 0   Unnamed: 0   150930 non-null  int64  \n",
      " 1   country      150925 non-null  object \n",
      " 2   description  150930 non-null  object \n",
      " 3   designation  105195 non-null  object \n",
      " 4   points       150930 non-null  int64  \n",
      " 5   price        137235 non-null  float64\n",
      " 6   province     150925 non-null  object \n",
      " 7   region_1     125870 non-null  object \n",
      " 8   region_2     60953 non-null   object \n",
      " 9   variety      150930 non-null  object \n",
      " 10  winery       150930 non-null  object \n",
      "dtypes: float64(1), int64(2), object(8)\n",
      "memory usage: 12.7+ MB\n"
     ]
    }
   ],
   "source": [
    "initial_data.info()"
   ]
  },
  {
   "cell_type": "code",
   "execution_count": 6,
   "metadata": {},
   "outputs": [],
   "source": [
    "dropped_regions = initial_data.drop(['region_1', 'region_2', 'designation', 'winery'], axis=1)"
   ]
  },
  {
   "cell_type": "code",
   "execution_count": 7,
   "metadata": {},
   "outputs": [
    {
     "name": "stdout",
     "output_type": "stream",
     "text": [
      "<class 'pandas.core.frame.DataFrame'>\n",
      "RangeIndex: 150930 entries, 0 to 150929\n",
      "Data columns (total 7 columns):\n",
      " #   Column       Non-Null Count   Dtype  \n",
      "---  ------       --------------   -----  \n",
      " 0   Unnamed: 0   150930 non-null  int64  \n",
      " 1   country      150925 non-null  object \n",
      " 2   description  150930 non-null  object \n",
      " 3   points       150930 non-null  int64  \n",
      " 4   price        137235 non-null  float64\n",
      " 5   province     150925 non-null  object \n",
      " 6   variety      150930 non-null  object \n",
      "dtypes: float64(1), int64(2), object(4)\n",
      "memory usage: 8.1+ MB\n"
     ]
    }
   ],
   "source": [
    "dropped_regions.info()"
   ]
  },
  {
   "cell_type": "code",
   "execution_count": 8,
   "metadata": {},
   "outputs": [
    {
     "name": "stdout",
     "output_type": "stream",
     "text": [
      "Unnamed: 0         0\n",
      "country            5\n",
      "description        0\n",
      "points             0\n",
      "price          13695\n",
      "province           5\n",
      "variety            0\n",
      "dtype: int64\n"
     ]
    }
   ],
   "source": [
    "print(dropped_regions.isna().sum())"
   ]
  },
  {
   "cell_type": "code",
   "execution_count": 9,
   "metadata": {},
   "outputs": [
    {
     "data": {
      "text/plain": [
       "<AxesSubplot:>"
      ]
     },
     "execution_count": 9,
     "metadata": {},
     "output_type": "execute_result"
    },
    {
     "data": {
      "image/png": "[encoded data removed]",
      "text/plain": [
       "<Figure size 432x288 with 1 Axes>"
      ]
     },
     "metadata": {
      "needs_background": "light"
     },
     "output_type": "display_data"
    }
   ],
   "source": [
    "dropped_regions['price'].hist()"
   ]
  },
  {
   "cell_type": "code",
   "execution_count": 10,
   "metadata": {},
   "outputs": [
    {
     "data": {
      "text/plain": [
       "count    137235.000000\n",
       "mean         33.131482\n",
       "std          36.322536\n",
       "min           4.000000\n",
       "25%          16.000000\n",
       "50%          24.000000\n",
       "75%          40.000000\n",
       "max        2300.000000\n",
       "Name: price, dtype: float64"
      ]
     },
     "execution_count": 10,
     "metadata": {},
     "output_type": "execute_result"
    }
   ],
   "source": [
    "dropped_regions['price'].describe()"
   ]
  },
  {
   "cell_type": "code",
   "execution_count": 11,
   "metadata": {},
   "outputs": [
    {
     "data": {
      "text/plain": [
       "<AxesSubplot:>"
      ]
     },
     "execution_count": 11,
     "metadata": {},
     "output_type": "execute_result"
    },
    {
     "data": {
      "image/png": "[encoded data removed]",
      "text/plain": [
       "<Figure size 432x288 with 1 Axes>"
      ]
     },
     "metadata": {
      "needs_background": "light"
     },
     "output_type": "display_data"
    }
   ],
   "source": [
    "dropped_regions['points'].hist(bins=10)"
   ]
  },
  {
   "cell_type": "code",
   "execution_count": 12,
   "metadata": {},
   "outputs": [
    {
     "data": {
      "text/plain": [
       "count    150930.000000\n",
       "mean         87.888418\n",
       "std           3.222392\n",
       "min          80.000000\n",
       "25%          86.000000\n",
       "50%          88.000000\n",
       "75%          90.000000\n",
       "max         100.000000\n",
       "Name: points, dtype: float64"
      ]
     },
     "execution_count": 12,
     "metadata": {},
     "output_type": "execute_result"
    }
   ],
   "source": [
    "dropped_regions['points'].describe()"
   ]
  },
  {
   "cell_type": "code",
   "execution_count": 13,
   "metadata": {},
   "outputs": [
    {
     "data": {
      "text/plain": [
       "count     150925\n",
       "unique        48\n",
       "top           US\n",
       "freq       62397\n",
       "Name: country, dtype: object"
      ]
     },
     "execution_count": 13,
     "metadata": {},
     "output_type": "execute_result"
    }
   ],
   "source": [
    "dropped_regions['country'].describe()"
   ]
  },
  {
   "cell_type": "code",
   "execution_count": 14,
   "metadata": {},
   "outputs": [
    {
     "data": {
      "image/png": "[encoded data removed]",
      "text/plain": [
       "<Figure size 1080x288 with 1 Axes>"
      ]
     },
     "metadata": {
      "needs_background": "light"
     },
     "output_type": "display_data"
    }
   ],
   "source": [
    "country_count = dropped_regions['country'].value_counts()\n",
    "country_count = country_count[:15,]\n",
    "plt.figure(figsize=(15,4))\n",
    "sns.barplot(country_count.index, country_count.values, alpha=0.8)\n",
    "plt.title('Number of Reviews from Country')\n",
    "plt.ylabel('Review Count', fontsize=16)\n",
    "plt.xlabel('Country', fontsize=16)\n",
    "plt.show()"
   ]
  },
  {
   "cell_type": "code",
   "execution_count": 15,
   "metadata": {},
   "outputs": [
    {
     "data": {
      "text/html": [
       "<div>\n",
       "<style scoped>\n",
       "    .dataframe tbody tr th:only-of-type {\n",
       "        vertical-align: middle;\n",
       "    }\n",
       "\n",
       "    .dataframe tbody tr th {\n",
       "        vertical-align: top;\n",
       "    }\n",
       "\n",
       "    .dataframe thead th {\n",
       "        text-align: right;\n",
       "    }\n",
       "</style>\n",
       "<table border=\"1\" class=\"dataframe\">\n",
       "  <thead>\n",
       "    <tr style=\"text-align: right;\">\n",
       "      <th></th>\n",
       "      <th>Unnamed: 0</th>\n",
       "      <th>country</th>\n",
       "      <th>description</th>\n",
       "      <th>points</th>\n",
       "      <th>price</th>\n",
       "      <th>province</th>\n",
       "      <th>variety</th>\n",
       "    </tr>\n",
       "  </thead>\n",
       "  <tbody>\n",
       "    <tr>\n",
       "      <th>0</th>\n",
       "      <td>0</td>\n",
       "      <td>US</td>\n",
       "      <td>This tremendous 100% varietal wine hails from Oakville and was aged over three years in oak. Juicy red-cherry fruit and a compelling hint of caramel greet the palate, framed by elegant, fine tannins and a subtle minty tone in the background. Balanced and rewarding from start to finish, it has years ahead of it to develop further nuance. Enjoy 2022–2030.</td>\n",
       "      <td>96</td>\n",
       "      <td>235.0</td>\n",
       "      <td>California</td>\n",
       "      <td>Cabernet Sauvignon</td>\n",
       "    </tr>\n",
       "    <tr>\n",
       "      <th>1</th>\n",
       "      <td>1</td>\n",
       "      <td>Spain</td>\n",
       "      <td>Ripe aromas of fig, blackberry and cassis are softened and sweetened by a slathering of oaky chocolate and vanilla. This is full, layered, intense and cushioned on the palate, with rich flavors of chocolaty black fruits and baking spices. A toasty, everlasting finish is heady but ideally balanced. Drink through 2023.</td>\n",
       "      <td>96</td>\n",
       "      <td>110.0</td>\n",
       "      <td>Northern Spain</td>\n",
       "      <td>Tinta de Toro</td>\n",
       "    </tr>\n",
       "    <tr>\n",
       "      <th>2</th>\n",
       "      <td>2</td>\n",
       "      <td>US</td>\n",
       "      <td>Mac Watson honors the memory of a wine once made by his mother in this tremendously delicious, balanced and complex botrytised white. Dark gold in color, it layers toasted hazelnut, pear compote and orange peel flavors, reveling in the succulence of its 122 g/L of residual sugar.</td>\n",
       "      <td>96</td>\n",
       "      <td>90.0</td>\n",
       "      <td>California</td>\n",
       "      <td>Sauvignon Blanc</td>\n",
       "    </tr>\n",
       "    <tr>\n",
       "      <th>3</th>\n",
       "      <td>3</td>\n",
       "      <td>US</td>\n",
       "      <td>This spent 20 months in 30% new French oak, and incorporates fruit from Ponzi's Aurora, Abetina and Madrona vineyards, among others. Aromatic, dense and toasty, it deftly blends aromas and flavors of toast, cigar box, blackberry, black cherry, coffee and graphite. Tannins are polished to a fine sheen, and frame a finish loaded with dark chocolate and espresso. Drink now through 2032.</td>\n",
       "      <td>96</td>\n",
       "      <td>65.0</td>\n",
       "      <td>Oregon</td>\n",
       "      <td>Pinot Noir</td>\n",
       "    </tr>\n",
       "    <tr>\n",
       "      <th>4</th>\n",
       "      <td>4</td>\n",
       "      <td>France</td>\n",
       "      <td>This is the top wine from La Bégude, named after the highest point in the vineyard at 1200 feet. It has structure, density and considerable acidity that is still calming down. With 18 months in wood, the wine has developing an extra richness and concentration. Produced by the Tari family, formerly of Château Giscours in Margaux, it is a wine made for aging. Drink from 2020.</td>\n",
       "      <td>95</td>\n",
       "      <td>66.0</td>\n",
       "      <td>Provence</td>\n",
       "      <td>Provence red blend</td>\n",
       "    </tr>\n",
       "  </tbody>\n",
       "</table>\n",
       "</div>"
      ],
      "text/plain": [
       "   Unnamed: 0 country  \\\n",
       "0           0      US   \n",
       "1           1   Spain   \n",
       "2           2      US   \n",
       "3           3      US   \n",
       "4           4  France   \n",
       "\n",
       "                                                                                                                                                                                                                                                                                                                                                                                          description  \\\n",
       "0                                 This tremendous 100% varietal wine hails from Oakville and was aged over three years in oak. Juicy red-cherry fruit and a compelling hint of caramel greet the palate, framed by elegant, fine tannins and a subtle minty tone in the background. Balanced and rewarding from start to finish, it has years ahead of it to develop further nuance. Enjoy 2022–2030.   \n",
       "1                                                                      Ripe aromas of fig, blackberry and cassis are softened and sweetened by a slathering of oaky chocolate and vanilla. This is full, layered, intense and cushioned on the palate, with rich flavors of chocolaty black fruits and baking spices. A toasty, everlasting finish is heady but ideally balanced. Drink through 2023.   \n",
       "2                                                                                                            Mac Watson honors the memory of a wine once made by his mother in this tremendously delicious, balanced and complex botrytised white. Dark gold in color, it layers toasted hazelnut, pear compote and orange peel flavors, reveling in the succulence of its 122 g/L of residual sugar.   \n",
       "3  This spent 20 months in 30% new French oak, and incorporates fruit from Ponzi's Aurora, Abetina and Madrona vineyards, among others. Aromatic, dense and toasty, it deftly blends aromas and flavors of toast, cigar box, blackberry, black cherry, coffee and graphite. Tannins are polished to a fine sheen, and frame a finish loaded with dark chocolate and espresso. Drink now through 2032.   \n",
       "4            This is the top wine from La Bégude, named after the highest point in the vineyard at 1200 feet. It has structure, density and considerable acidity that is still calming down. With 18 months in wood, the wine has developing an extra richness and concentration. Produced by the Tari family, formerly of Château Giscours in Margaux, it is a wine made for aging. Drink from 2020.   \n",
       "\n",
       "   points  price        province             variety  \n",
       "0      96  235.0      California  Cabernet Sauvignon  \n",
       "1      96  110.0  Northern Spain       Tinta de Toro  \n",
       "2      96   90.0      California     Sauvignon Blanc  \n",
       "3      96   65.0          Oregon          Pinot Noir  \n",
       "4      95   66.0        Provence  Provence red blend  "
      ]
     },
     "execution_count": 15,
     "metadata": {},
     "output_type": "execute_result"
    }
   ],
   "source": [
    "dropped_regions.head()"
   ]
  },
  {
   "cell_type": "code",
   "execution_count": 16,
   "metadata": {},
   "outputs": [
    {
     "data": {
      "text/plain": [
       "632"
      ]
     },
     "execution_count": 16,
     "metadata": {},
     "output_type": "execute_result"
    }
   ],
   "source": [
    "variety_count = dropped_regions['variety'].value_counts()\n",
    "len(variety_count)"
   ]
  },
  {
   "cell_type": "code",
   "execution_count": 18,
   "metadata": {},
   "outputs": [
    {
     "data": {
      "text/plain": [
       "(74287, 7)"
      ]
     },
     "execution_count": 18,
     "metadata": {},
     "output_type": "execute_result"
    }
   ],
   "source": [
    "#selecting the kinds of grape variety I want to test\n",
    "new_df = dropped_regions[(dropped_regions['variety'] == 'Chardonnay') | (dropped_regions['variety'] == 'Pinot Noir') |(dropped_regions['variety'] == 'Merlot') | (dropped_regions['variety'] == 'Cabernet Sauvignon') | (dropped_regions['variety'] == 'Bordeaux-style Red Blend') | (dropped_regions['variety'] == 'Sauvignon Blanc') | (dropped_regions['variety'] == 'Syrah') | (dropped_regions['variety'] == 'Riesling') | (dropped_regions['variety'] == 'Pinot Gris') | (dropped_regions['variety'] == 'Viognier')]\n",
    "new_df.shape"
   ]
  },
  {
   "cell_type": "code",
   "execution_count": 19,
   "metadata": {},
   "outputs": [],
   "source": [
    "#eliminating duplicate entries\n",
    "new_df = new_df.drop_duplicates('description', keep='first')"
   ]
  },
  {
   "cell_type": "code",
   "execution_count": 20,
   "metadata": {},
   "outputs": [
    {
     "data": {
      "text/plain": [
       "(48095, 7)"
      ]
     },
     "execution_count": 20,
     "metadata": {},
     "output_type": "execute_result"
    }
   ],
   "source": [
    "new_df.shape"
   ]
  },
  {
   "cell_type": "code",
   "execution_count": 21,
   "metadata": {},
   "outputs": [
    {
     "data": {
      "text/plain": [
       "Pinot Noir                  9283\n",
       "Chardonnay                  9159\n",
       "Cabernet Sauvignon          8270\n",
       "Bordeaux-style Red Blend    5170\n",
       "Sauvignon Blanc             4033\n",
       "Syrah                       3661\n",
       "Riesling                    3583\n",
       "Merlot                      3178\n",
       "Pinot Gris                   899\n",
       "Viognier                     859\n",
       "Name: variety, dtype: int64"
      ]
     },
     "execution_count": 21,
     "metadata": {},
     "output_type": "execute_result"
    }
   ],
   "source": [
    "variety_count_2 = new_df['variety'].value_counts()\n",
    "variety_count_2"
   ]
  },
  {
   "cell_type": "code",
   "execution_count": 22,
   "metadata": {},
   "outputs": [],
   "source": [
    "# adding a column that says whether the wine is red or white based on the grape variety\n",
    "kind = []\n",
    "for wine in new_df['variety']:\n",
    "    if wine == 'Chardonnay':\n",
    "        kind.append('White')\n",
    "    if wine == 'Pinot Noir':\n",
    "        kind.append('Red')\n",
    "    if wine == 'Cabernet Sauvignon':\n",
    "        kind.append('Red')\n",
    "    if wine == 'Bordeaux-style Red Blend':\n",
    "        kind.append('Red')\n",
    "    if wine == 'Sauvignon Blanc':\n",
    "        kind.append('White')\n",
    "    if wine == 'Syrah':\n",
    "        kind.append('Red')\n",
    "    if wine == 'Riesling':\n",
    "        kind.append('White')\n",
    "    if wine == 'Merlot':\n",
    "        kind.append('Red')\n",
    "    if wine == 'Zinfandel':\n",
    "        kind.append('Red')\n",
    "    if wine == 'Sangiovese':\n",
    "        kind.append('Red')\n",
    "    if wine == 'Malbec':\n",
    "        kind.append('Red')\n",
    "    if wine == 'Tempranillo':\n",
    "        kind.append('Red')\n",
    "    if wine == 'Barbera':\n",
    "        kind.append('Red')\n",
    "    if wine == 'Pinot Gris':\n",
    "        kind.append('White')\n",
    "    if wine == 'Pinot Grigio':\n",
    "        kind.append('White')\n",
    "    if wine == 'Viognier':\n",
    "        kind.append('White')\n",
    "    if wine == 'Chenin Blanc':\n",
    "        kind.append('White')\n",
    "    if wine == 'Glera':\n",
    "        kind.append('White')\n",
    "    if wine == 'Albariño':\n",
    "        kind.append('White')\n",
    "    if wine == 'Pinot Blanc':\n",
    "        kind.append('White')\n",
    "    \n",
    "\n",
    "new_df['Red_White'] = kind\n",
    "\n"
   ]
  },
  {
   "cell_type": "code",
   "execution_count": 59,
   "metadata": {},
   "outputs": [
    {
     "data": {
      "image/png": "[encoded data removed]",
      "text/plain": [
       "<Figure size 576x288 with 1 Axes>"
      ]
     },
     "metadata": {
      "needs_background": "light"
     },
     "output_type": "display_data"
    }
   ],
   "source": [
    "red_white_count = new_df['Red_White'].value_counts()\n",
    "\n",
    "\n",
    "plt.figure(figsize=(8,4))\n",
    "sns.barplot(red_white_count.index, red_white_count.values, alpha=0.8)\n",
    "plt.title('Red vs. White Wine')\n",
    "plt.ylabel('Review Count', fontsize=16)\n",
    "# plt.xlabel('Wine Type', fontsize=16)\n",
    "plt.show()"
   ]
  },
  {
   "cell_type": "code",
   "execution_count": 63,
   "metadata": {},
   "outputs": [
    {
     "data": {
      "text/plain": [
       "Red      29562\n",
       "White    18533\n",
       "Name: Red_White, dtype: int64"
      ]
     },
     "execution_count": 63,
     "metadata": {},
     "output_type": "execute_result"
    }
   ],
   "source": [
    "red_white_count = new_df['Red_White'].value_counts()\n",
    "red_white_count"
   ]
  },
  {
   "cell_type": "code",
   "execution_count": 65,
   "metadata": {},
   "outputs": [
    {
     "data": {
      "text/plain": [
       "Pinot Noir                  9283\n",
       "Chardonnay                  9159\n",
       "Cabernet Sauvignon          8270\n",
       "Bordeaux-style Red Blend    5170\n",
       "Sauvignon Blanc             4033\n",
       "Syrah                       3661\n",
       "Riesling                    3583\n",
       "Merlot                      3178\n",
       "Pinot Gris                   899\n",
       "Viognier                     859\n",
       "Name: variety, dtype: int64"
      ]
     },
     "execution_count": 65,
     "metadata": {},
     "output_type": "execute_result"
    }
   ],
   "source": [
    "variety_count = new_df['variety'].value_counts()\n",
    "variety_count"
   ]
  },
  {
   "cell_type": "code",
   "execution_count": 62,
   "metadata": {},
   "outputs": [
    {
     "data": {
      "image/png": "[encoded data removed]",
      "text/plain": [
       "<Figure size 864x576 with 1 Axes>"
      ]
     },
     "metadata": {
      "needs_background": "light"
     },
     "output_type": "display_data"
    }
   ],
   "source": [
    "red_white_count = new_df['variety'].value_counts()\n",
    "\n",
    "\n",
    "plt.figure(figsize=(12,8))\n",
    "sns.barplot(y = red_white_count.index, x = red_white_count.values,  alpha=0.8)\n",
    "plt.title('Wine Varieties', fontsize=16)\n",
    "plt.ylabel('Grape Varieties', fontsize=10)\n",
    "plt.xlabel('Amount of Varieties Reviewed', fontsize=16)\n",
    "plt.show()"
   ]
  },
  {
   "cell_type": "code",
   "execution_count": 25,
   "metadata": {},
   "outputs": [
    {
     "data": {
      "text/html": [
       "<div>\n",
       "<style scoped>\n",
       "    .dataframe tbody tr th:only-of-type {\n",
       "        vertical-align: middle;\n",
       "    }\n",
       "\n",
       "    .dataframe tbody tr th {\n",
       "        vertical-align: top;\n",
       "    }\n",
       "\n",
       "    .dataframe thead th {\n",
       "        text-align: right;\n",
       "    }\n",
       "</style>\n",
       "<table border=\"1\" class=\"dataframe\">\n",
       "  <thead>\n",
       "    <tr style=\"text-align: right;\">\n",
       "      <th></th>\n",
       "      <th>Unnamed: 0</th>\n",
       "      <th>country</th>\n",
       "      <th>description</th>\n",
       "      <th>points</th>\n",
       "      <th>price</th>\n",
       "      <th>province</th>\n",
       "      <th>variety</th>\n",
       "      <th>Red_White</th>\n",
       "    </tr>\n",
       "  </thead>\n",
       "  <tbody>\n",
       "    <tr>\n",
       "      <th>0</th>\n",
       "      <td>0</td>\n",
       "      <td>US</td>\n",
       "      <td>This tremendous 100% varietal wine hails from Oakville and was aged over three years in oak. Juicy red-cherry fruit and a compelling hint of caramel greet the palate, framed by elegant, fine tannins and a subtle minty tone in the background. Balanced and rewarding from start to finish, it has years ahead of it to develop further nuance. Enjoy 2022–2030.</td>\n",
       "      <td>96</td>\n",
       "      <td>235.0</td>\n",
       "      <td>California</td>\n",
       "      <td>Cabernet Sauvignon</td>\n",
       "      <td>Red</td>\n",
       "    </tr>\n",
       "    <tr>\n",
       "      <th>2</th>\n",
       "      <td>2</td>\n",
       "      <td>US</td>\n",
       "      <td>Mac Watson honors the memory of a wine once made by his mother in this tremendously delicious, balanced and complex botrytised white. Dark gold in color, it layers toasted hazelnut, pear compote and orange peel flavors, reveling in the succulence of its 122 g/L of residual sugar.</td>\n",
       "      <td>96</td>\n",
       "      <td>90.0</td>\n",
       "      <td>California</td>\n",
       "      <td>Sauvignon Blanc</td>\n",
       "      <td>White</td>\n",
       "    </tr>\n",
       "    <tr>\n",
       "      <th>3</th>\n",
       "      <td>3</td>\n",
       "      <td>US</td>\n",
       "      <td>This spent 20 months in 30% new French oak, and incorporates fruit from Ponzi's Aurora, Abetina and Madrona vineyards, among others. Aromatic, dense and toasty, it deftly blends aromas and flavors of toast, cigar box, blackberry, black cherry, coffee and graphite. Tannins are polished to a fine sheen, and frame a finish loaded with dark chocolate and espresso. Drink now through 2032.</td>\n",
       "      <td>96</td>\n",
       "      <td>65.0</td>\n",
       "      <td>Oregon</td>\n",
       "      <td>Pinot Noir</td>\n",
       "      <td>Red</td>\n",
       "    </tr>\n",
       "    <tr>\n",
       "      <th>8</th>\n",
       "      <td>8</td>\n",
       "      <td>US</td>\n",
       "      <td>This re-named vineyard was formerly bottled as deLancellotti. You'll find striking minerality underscoring chunky black fruits. Accents of citrus and graphite comingle, with exceptional midpalate concentration. This is a wine to cellar, though it is already quite enjoyable. Drink now through 2030.</td>\n",
       "      <td>95</td>\n",
       "      <td>65.0</td>\n",
       "      <td>Oregon</td>\n",
       "      <td>Pinot Noir</td>\n",
       "      <td>Red</td>\n",
       "    </tr>\n",
       "    <tr>\n",
       "      <th>9</th>\n",
       "      <td>9</td>\n",
       "      <td>US</td>\n",
       "      <td>The producer sources from two blocks of the vineyard for this wine—one at a high elevation, which contributes bright acidity. Crunchy cranberry, pomegranate and orange peel flavors surround silky, succulent layers of texture that present as fleshy fruit. That delicately lush flavor has considerable length.</td>\n",
       "      <td>95</td>\n",
       "      <td>60.0</td>\n",
       "      <td>California</td>\n",
       "      <td>Pinot Noir</td>\n",
       "      <td>Red</td>\n",
       "    </tr>\n",
       "  </tbody>\n",
       "</table>\n",
       "</div>"
      ],
      "text/plain": [
       "   Unnamed: 0 country  \\\n",
       "0           0      US   \n",
       "2           2      US   \n",
       "3           3      US   \n",
       "8           8      US   \n",
       "9           9      US   \n",
       "\n",
       "                                                                                                                                                                                                                                                                                                                                                                                          description  \\\n",
       "0                                 This tremendous 100% varietal wine hails from Oakville and was aged over three years in oak. Juicy red-cherry fruit and a compelling hint of caramel greet the palate, framed by elegant, fine tannins and a subtle minty tone in the background. Balanced and rewarding from start to finish, it has years ahead of it to develop further nuance. Enjoy 2022–2030.   \n",
       "2                                                                                                            Mac Watson honors the memory of a wine once made by his mother in this tremendously delicious, balanced and complex botrytised white. Dark gold in color, it layers toasted hazelnut, pear compote and orange peel flavors, reveling in the succulence of its 122 g/L of residual sugar.   \n",
       "3  This spent 20 months in 30% new French oak, and incorporates fruit from Ponzi's Aurora, Abetina and Madrona vineyards, among others. Aromatic, dense and toasty, it deftly blends aromas and flavors of toast, cigar box, blackberry, black cherry, coffee and graphite. Tannins are polished to a fine sheen, and frame a finish loaded with dark chocolate and espresso. Drink now through 2032.   \n",
       "8                                                                                          This re-named vineyard was formerly bottled as deLancellotti. You'll find striking minerality underscoring chunky black fruits. Accents of citrus and graphite comingle, with exceptional midpalate concentration. This is a wine to cellar, though it is already quite enjoyable. Drink now through 2030.   \n",
       "9                                                                                 The producer sources from two blocks of the vineyard for this wine—one at a high elevation, which contributes bright acidity. Crunchy cranberry, pomegranate and orange peel flavors surround silky, succulent layers of texture that present as fleshy fruit. That delicately lush flavor has considerable length.   \n",
       "\n",
       "   points  price    province             variety Red_White  \n",
       "0      96  235.0  California  Cabernet Sauvignon       Red  \n",
       "2      96   90.0  California     Sauvignon Blanc     White  \n",
       "3      96   65.0      Oregon          Pinot Noir       Red  \n",
       "8      95   65.0      Oregon          Pinot Noir       Red  \n",
       "9      95   60.0  California          Pinot Noir       Red  "
      ]
     },
     "execution_count": 25,
     "metadata": {},
     "output_type": "execute_result"
    }
   ],
   "source": [
    "new_df.head()"
   ]
  },
  {
   "cell_type": "markdown",
   "metadata": {},
   "source": [
    "# Wine Predictor Model"
   ]
  },
  {
   "cell_type": "code",
   "execution_count": 26,
   "metadata": {},
   "outputs": [],
   "source": [
    "X = new_df['description']\n",
    "y = new_df['variety']"
   ]
  },
  {
   "cell_type": "code",
   "execution_count": 27,
   "metadata": {},
   "outputs": [],
   "source": [
    "#creating custom list of stopwords\n",
    "\n",
    "extras = ['red', 'white', 'Cabernet Sauvignon', 'Sauvignon Blanc', 'Pinot Noir',\n",
    "       'Chardonnay', 'Tempranillo', 'Malbec', 'Syrah', 'Sangiovese',\n",
    "       'Riesling', 'Nebbiolo', 'Pinot Gris', 'Glera', 'Viognier',\n",
    "       'Pinot Grigio', 'Cabernet Franc', 'Zinfandel', 'Barbera',\n",
    "       'Albariño', 'Bordeaux-style Red Blend', 'Gewürztraminer', 'Merlot',\n",
    "       'Grüner Veltliner', 'Pinot Blanc', 'Shiraz', 'Chenin Blanc', 'merlot', 'pinot', 'chardonnay','noir','cabernet','sauvignon', 'bordeaux','riesling','syrah','viognier', 'wine', 'flavors', 'fruit', 'palate','finish','aromas','notes','drink','years','good','like','oak','nose','ripe','acidity','dry','sweet']\n",
    "stop = set(stopwords.words('english'))\n",
    "stop.update(extras)\n"
   ]
  },
  {
   "cell_type": "code",
   "execution_count": 28,
   "metadata": {},
   "outputs": [],
   "source": [
    "X_train, X_test, y_train, y_test = train_test_split(X, y, test_size=0.25, shuffle=True)"
   ]
  },
  {
   "cell_type": "code",
   "execution_count": 29,
   "metadata": {},
   "outputs": [],
   "source": [
    "count_vec = CountVectorizer(strip_accents='ascii', lowercase=True,tokenizer=None, stop_words=stop, max_df=.2, min_df=.005)\n",
    "X_train = count_vec.fit_transform(X_train)\n",
    "X_test = count_vec.transform(X_test)"
   ]
  },
  {
   "cell_type": "code",
   "execution_count": 30,
   "metadata": {},
   "outputs": [
    {
     "data": {
      "text/plain": [
       "MultinomialNB()"
      ]
     },
     "execution_count": 30,
     "metadata": {},
     "output_type": "execute_result"
    }
   ],
   "source": [
    "multinm_clf = MultinomialNB()\n",
    "multinm_clf.fit(X_train, y_train)"
   ]
  },
  {
   "cell_type": "code",
   "execution_count": 31,
   "metadata": {},
   "outputs": [
    {
     "data": {
      "text/plain": [
       "array(['Chardonnay', 'Pinot Noir', 'Pinot Noir', ...,\n",
       "       'Bordeaux-style Red Blend', 'Chardonnay',\n",
       "       'Bordeaux-style Red Blend'], dtype='<U24')"
      ]
     },
     "execution_count": 31,
     "metadata": {},
     "output_type": "execute_result"
    }
   ],
   "source": [
    "y_pred = multinm_clf.predict(X_test)\n",
    "y_pred"
   ]
  },
  {
   "cell_type": "code",
   "execution_count": 32,
   "metadata": {},
   "outputs": [
    {
     "data": {
      "text/plain": [
       "array([[ 953,  190,    5,   45,    0,   53,    1,    2,   28,    0],\n",
       "       [  82, 1392,    9,  321,    0,  176,    5,   14,  176,    1],\n",
       "       [  58,   14, 1746,    7,   37,   26,  171,  177,    5,   37],\n",
       "       [  29,  230,   10,  281,    0,  133,    2,    4,   78,    1],\n",
       "       [   8,    1,   47,    1,  104,    5,   38,   23,    0,    3],\n",
       "       [ 297,  125,   20,  175,    6, 1549,   19,   11,  106,    4],\n",
       "       [  28,    0,  108,    0,   31,   12,  628,   60,    1,   16],\n",
       "       [   7,    4,  169,    1,   12,    6,   76,  691,    2,   23],\n",
       "       [  33,  211,    3,  108,    0,  138,    6,    7,  372,    9],\n",
       "       [   0,    1,   87,    0,    6,    0,   36,   30,    1,   60]])"
      ]
     },
     "execution_count": 32,
     "metadata": {},
     "output_type": "execute_result"
    }
   ],
   "source": [
    "which_wine = confusion_matrix(y_test, y_pred)\n",
    "which_wine"
   ]
  },
  {
   "cell_type": "code",
   "execution_count": 33,
   "metadata": {},
   "outputs": [
    {
     "name": "stdout",
     "output_type": "stream",
     "text": [
      "Accuracy is: 0.6467065868263473\n"
     ]
    }
   ],
   "source": [
    "\n",
    "score = accuracy_score(y_test, y_pred)\n",
    "\n",
    "print('Accuracy is: {}'.format(score))"
   ]
  },
  {
   "cell_type": "code",
   "execution_count": 34,
   "metadata": {},
   "outputs": [],
   "source": [
    "feat = multinm_clf.feature_log_prob_.argsort()"
   ]
  },
  {
   "cell_type": "code",
   "execution_count": 35,
   "metadata": {},
   "outputs": [
    {
     "name": "stdout",
     "output_type": "stream",
     "text": [
      "['chocolate' 'franc' 'great' 'plum' 'full' 'solid' 'fruity' 'cherry'\n",
      " 'shows' 'spice' 'fresh' 'aging' 'berry' 'dense' 'soft' 'blackberry'\n",
      " 'character' 'juicy' 'currant' 'well' 'structure' 'dark' 'firm' 'blend'\n",
      " 'rich' 'sample' 'barrel' 'wood' 'fruits' 'black']\n",
      "['best' 'structure' 'smooth' 'firm' 'cherries' 'smoky' 'vanilla' 'bit'\n",
      " 'fine' 'spice' 'currants' 'cedar' 'full' 'herbal' 'well' 'blackberries'\n",
      " 'plum' 'dark' 'shows' 'tannic' 'currant' 'berry' 'soft' 'chocolate'\n",
      " 'rich' 'cab' 'cassis' 'blackberry' 'cherry' 'black']\n",
      "['orange' 'minerality' 'light' 'style' 'lime' 'clean' 'wood' 'well'\n",
      " 'chard' 'spice' 'texture' 'full' 'soft' 'fruits' 'shows' 'buttered'\n",
      " 'lemon' 'fresh' 'creamy' 'green' 'tropical' 'peach' 'crisp' 'citrus'\n",
      " 'pear' 'rich' 'pineapple' 'toast' 'vanilla' 'apple']\n",
      "['nice' 'firm' 'licorice' 'light' 'mouth' 'little' 'bodied' 'raspberry'\n",
      " 'coffee' 'full' 'herb' 'green' 'herbal' 'vanilla' 'bit' 'well' 'tannic'\n",
      " 'smooth' 'shows' 'dark' 'cherries' 'chocolate' 'rich' 'blackberry'\n",
      " 'spice' 'plum' 'berry' 'soft' 'black' 'cherry']\n",
      "['bit' 'fruity' 'sweetness' 'pineapple' 'honey' 'balanced' 'touch' 'hint'\n",
      " 'orange' 'green' 'well' 'texture' 'tart' 'bodied' 'style' 'spicy' 'light'\n",
      " 'lemon' 'clean' 'full' 'peach' 'spice' 'crisp' 'rich' 'melon' 'citrus'\n",
      " 'fresh' 'apple' 'gris' 'pear']\n",
      "['elegant' 'vanilla' 'strawberry' 'raspberries' 'smoky' 'dark' 'fresh'\n",
      " 'berry' 'crisp' 'complex' 'plum' 'bodied' 'structure' 'tart' 'fruits'\n",
      " 'full' 'well' 'vineyard' 'texture' 'soft' 'light' 'spice' 'shows' 'rich'\n",
      " 'silky' 'black' 'cherries' 'raspberry' 'cola' 'cherry']\n",
      "['concentrated' 'grapefruit' 'pineapple' 'yet' 'sugar' 'balanced' 'floral'\n",
      " 'orange' 'bodied' 'medium' 'full' 'minerality' 'style' 'rich' 'light'\n",
      " 'spice' 'pear' 'hints' 'stone' 'green' 'mineral' 'long' 'honey' 'crisp'\n",
      " 'fresh' 'peach' 'lemon' 'lime' 'citrus' 'apple']\n",
      "['imported' 'texture' 'character' 'grassy' 'passion' 'soft' 'full' 'mouth'\n",
      " 'light' 'well' 'fruits' 'touch' 'vanilla' 'shows' 'gooseberry'\n",
      " 'pineapple' 'rich' 'peach' 'tropical' 'melon' 'clean' 'apple' 'lemon'\n",
      " 'fresh' 'lime' 'grapefruit' 'crisp' 'blanc' 'citrus' 'green']\n",
      "['complex' 'vanilla' 'smooth' 'bodied' 'meat' 'leather' 'tart' 'cherries'\n",
      " 'licorice' 'spicy' 'raspberry' 'bit' 'coffee' 'vineyard' 'well'\n",
      " 'blackberries' 'full' 'plum' 'tannic' 'shows' 'dark' 'spice' 'berry'\n",
      " 'soft' 'chocolate' 'rich' 'pepper' 'cherry' 'blackberry' 'black']\n",
      "['medium' 'fruits' 'mouth' 'peaches' 'bodied' 'one' 'apple' 'light' 'pear'\n",
      " 'floral' 'melon' 'exotic' 'shows' 'clean' 'fresh' 'orange' 'full'\n",
      " 'honeysuckle' 'lime' 'crisp' 'pineapple' 'honey' 'rich' 'spice'\n",
      " 'tropical' 'lemon' 'vanilla' 'apricot' 'citrus' 'peach']\n"
     ]
    }
   ],
   "source": [
    "#top words being used for classifier\n",
    "\n",
    "np.set_printoptions(threshold=sys.maxsize)\n",
    "\n",
    "a = np.take(count_vec.get_feature_names(), feat[-10:])[0]\n",
    "print(a[-30:])\n",
    "b = np.take(count_vec.get_feature_names(), feat[-10:])[1]\n",
    "print(b[-30:])\n",
    "c = np.take(count_vec.get_feature_names(), feat[-10:])[2]\n",
    "print(c[-30:])\n",
    "d = np.take(count_vec.get_feature_names(), feat[-10:])[3]\n",
    "print(d[-30:])\n",
    "e = np.take(count_vec.get_feature_names(), feat[-10:])[4]\n",
    "print(e[-30:])\n",
    "f = np.take(count_vec.get_feature_names(), feat[-10:])[5]\n",
    "print(f[-30:])\n",
    "g = np.take(count_vec.get_feature_names(), feat[-10:])[6]\n",
    "print(g[-30:])\n",
    "h = np.take(count_vec.get_feature_names(), feat[-10:])[7]\n",
    "print(h[-30:])\n",
    "i = np.take(count_vec.get_feature_names(), feat[-10:])[8]\n",
    "print(i[-30:])\n",
    "j = np.take(count_vec.get_feature_names(), feat[-10:])[9]\n",
    "print(j[-30:])"
   ]
  },
  {
   "cell_type": "code",
   "execution_count": 36,
   "metadata": {},
   "outputs": [
    {
     "data": {
      "text/plain": [
       "array(['Bordeaux-style Red Blend', 'Cabernet Sauvignon', 'Chardonnay',\n",
       "       'Merlot', 'Pinot Gris', 'Pinot Noir', 'Riesling',\n",
       "       'Sauvignon Blanc', 'Syrah', 'Viognier'], dtype='<U24')"
      ]
     },
     "execution_count": 36,
     "metadata": {},
     "output_type": "execute_result"
    }
   ],
   "source": [
    "multinm_clf.classes_"
   ]
  },
  {
   "cell_type": "code",
   "execution_count": 37,
   "metadata": {},
   "outputs": [
    {
     "data": {
      "text/plain": [
       "Text(0.5, 0, 'Predicted Label')"
      ]
     },
     "execution_count": 37,
     "metadata": {},
     "output_type": "execute_result"
    },
    {
     "data": {
      "image/png": "[encoded data removed]",
      "text/plain": [
       "<Figure size 1440x1440 with 2 Axes>"
      ]
     },
     "metadata": {
      "needs_background": "light"
     },
     "output_type": "display_data"
    }
   ],
   "source": [
    "fig, ax = plt.subplots(figsize=(20,20))\n",
    "plot_confusion_matrix(multinm_clf, X_test, y_test, ax=ax)\n",
    "plt.xticks(rotation = 45, ha=\"right\")\n",
    "plt.title('Confusion Matrix', fontsize=20)\n",
    "plt.ylabel('True Label', fontsize=20)\n",
    "plt.xlabel('Predicted Label', fontsize=20)"
   ]
  },
  {
   "cell_type": "markdown",
   "metadata": {},
   "source": [
    "# Random Forest Classifier"
   ]
  },
  {
   "cell_type": "code",
   "execution_count": 38,
   "metadata": {},
   "outputs": [],
   "source": [
    "X = new_df['description']\n",
    "y = new_df['variety']"
   ]
  },
  {
   "cell_type": "code",
   "execution_count": 39,
   "metadata": {},
   "outputs": [],
   "source": [
    "clf = pipeline.Pipeline([\n",
    "        ('tfidf_vectorizer', feature_extraction.text.TfidfVectorizer(lowercase=True, stop_words=stop)),\n",
    "        ('rf_classifier', ensemble.RandomForestClassifier(n_estimators=500, criterion='gini',  n_jobs=-1))])"
   ]
  },
  {
   "cell_type": "code",
   "execution_count": 40,
   "metadata": {},
   "outputs": [],
   "source": [
    "X_train, X_test, y_train, y_test = train_test_split(X, y, test_size=0.25, shuffle=True)"
   ]
  },
  {
   "cell_type": "code",
   "execution_count": 41,
   "metadata": {},
   "outputs": [
    {
     "data": {
      "text/plain": [
       "Pipeline(steps=[('tfidf_vectorizer',\n",
       "                 TfidfVectorizer(stop_words={'Albariño', 'Barbera',\n",
       "                                             'Bordeaux-style Red Blend',\n",
       "                                             'Cabernet Franc',\n",
       "                                             'Cabernet Sauvignon', 'Chardonnay',\n",
       "                                             'Chenin Blanc', 'Gewürztraminer',\n",
       "                                             'Glera', 'Grüner Veltliner',\n",
       "                                             'Malbec', 'Merlot', 'Nebbiolo',\n",
       "                                             'Pinot Blanc', 'Pinot Grigio',\n",
       "                                             'Pinot Gris', 'Pinot Noir',\n",
       "                                             'Riesling', 'Sangiovese',\n",
       "                                             'Sauvignon Blanc', 'Shiraz',\n",
       "                                             'Syrah', 'Tempranillo', 'Viognier',\n",
       "                                             'Zinfandel', 'a', 'about', 'above',\n",
       "                                             'acidity', 'after', ...})),\n",
       "                ('rf_classifier',\n",
       "                 RandomForestClassifier(n_estimators=500, n_jobs=-1))])"
      ]
     },
     "execution_count": 41,
     "metadata": {},
     "output_type": "execute_result"
    }
   ],
   "source": [
    "clf.fit(X_train,y_train)"
   ]
  },
  {
   "cell_type": "code",
   "execution_count": 42,
   "metadata": {},
   "outputs": [],
   "source": [
    "y_pred=clf.predict(X_test)"
   ]
  },
  {
   "cell_type": "code",
   "execution_count": 43,
   "metadata": {},
   "outputs": [
    {
     "data": {
      "text/plain": [
       "array([[1012,  209,   16,    1,    0,   89,    0,    1,    3,    0],\n",
       "       [  61, 1609,   29,   13,    0,  248,    0,    4,   22,    0],\n",
       "       [  14,    3, 2188,    1,    1,   17,   27,   51,    1,    0],\n",
       "       [  35,  410,   28,   19,    0,  274,    1,    0,   16,    0],\n",
       "       [   2,    1,  142,    0,   67,    2,   14,   13,    0,    0],\n",
       "       [ 159,  148,   52,    3,    0, 1963,    2,    8,    9,    0],\n",
       "       [   1,    1,  417,    0,    0,    8,  443,   35,    1,    0],\n",
       "       [   1,    3,  328,    0,    0,    9,   18,  645,    3,    0],\n",
       "       [  22,  450,   30,    6,    0,  235,    3,    1,  184,    0],\n",
       "       [   0,    0,  163,    0,    0,    1,   18,    9,    0,    1]])"
      ]
     },
     "execution_count": 43,
     "metadata": {},
     "output_type": "execute_result"
    }
   ],
   "source": [
    "forest_matrix = confusion_matrix(y_test,y_pred)\n",
    "forest_matrix"
   ]
  },
  {
   "cell_type": "code",
   "execution_count": 44,
   "metadata": {},
   "outputs": [
    {
     "name": "stdout",
     "output_type": "stream",
     "text": [
      "Accuracy is: 0.676230871590153\n"
     ]
    }
   ],
   "source": [
    "forest_score = accuracy_score(y_test, y_pred)\n",
    "print('Accuracy is: {}'.format(forest_score))"
   ]
  },
  {
   "cell_type": "code",
   "execution_count": 47,
   "metadata": {},
   "outputs": [
    {
     "ename": "AttributeError",
     "evalue": "'Pipeline' object has no attribute 'feature_log_prob_'",
     "output_type": "error",
     "traceback": [
      "\u001b[0;31m---------------------------------------------------------------------------\u001b[0m",
      "\u001b[0;31mAttributeError\u001b[0m                            Traceback (most recent call last)",
      "\u001b[0;32m<ipython-input-47-eff9584627b0>\u001b[0m in \u001b[0;36m<module>\u001b[0;34m\u001b[0m\n\u001b[0;32m----> 1\u001b[0;31m \u001b[0mfeat\u001b[0m \u001b[0;34m=\u001b[0m \u001b[0mclf\u001b[0m\u001b[0;34m.\u001b[0m\u001b[0mfeature_log_prob_\u001b[0m\u001b[0;34m.\u001b[0m\u001b[0margsort\u001b[0m\u001b[0;34m(\u001b[0m\u001b[0;34m)\u001b[0m\u001b[0;34m\u001b[0m\u001b[0;34m\u001b[0m\u001b[0m\n\u001b[0m",
      "\u001b[0;31mAttributeError\u001b[0m: 'Pipeline' object has no attribute 'feature_log_prob_'"
     ]
    }
   ],
   "source": [
    "feat = clf.feature_log_prob_.argsort()"
   ]
  },
  {
   "cell_type": "code",
   "execution_count": null,
   "metadata": {},
   "outputs": [],
   "source": [
    "# top words being used for classifier\n",
    "\n",
    "np.set_printoptions(threshold=sys.maxsize)\n",
    "\n",
    "a = np.take(clf.get_feature_names())[0]\n",
    "print(a[-50:])\n",
    "b = np.take(clf.get_feature_names())[1]\n",
    "print(b[-50:])"
   ]
  },
  {
   "cell_type": "code",
   "execution_count": 45,
   "metadata": {},
   "outputs": [
    {
     "data": {
      "text/plain": [
       "Text(0.5, 0, 'Predicted Label')"
      ]
     },
     "execution_count": 45,
     "metadata": {},
     "output_type": "execute_result"
    },
    {
     "data": {
      "image/png": "[encoded data removed]",
      "text/plain": [
       "<Figure size 1440x1440 with 2 Axes>"
      ]
     },
     "metadata": {
      "needs_background": "light"
     },
     "output_type": "display_data"
    }
   ],
   "source": [
    "fig, ax = plt.subplots(figsize=(20,20))\n",
    "plot_confusion_matrix(clf,X_test, y_test,  ax=ax)\n",
    "plt.xticks(rotation = 45, ha=\"right\")\n",
    "plt.title('Confusion Matrix', fontsize=20)\n",
    "plt.ylabel('True Label', fontsize=20)\n",
    "plt.xlabel('Predicted Label', fontsize=20)"
   ]
  },
  {
   "cell_type": "markdown",
   "metadata": {},
   "source": [
    "# Red vs White Model"
   ]
  },
  {
   "cell_type": "code",
   "execution_count": 46,
   "metadata": {},
   "outputs": [],
   "source": [
    "X = new_df['description']\n",
    "y = new_df['Red_White']"
   ]
  },
  {
   "cell_type": "code",
   "execution_count": 47,
   "metadata": {},
   "outputs": [],
   "source": [
    "X_train, X_test, y_train, y_test = train_test_split(X, y, test_size=0.25, shuffle=True)"
   ]
  },
  {
   "cell_type": "code",
   "execution_count": 48,
   "metadata": {},
   "outputs": [],
   "source": [
    "count_vec_2 = CountVectorizer(lowercase=True,stop_words=stop)\n",
    "X_train = count_vec_2.fit_transform(X_train)\n",
    "X_test = count_vec_2.transform(X_test)"
   ]
  },
  {
   "cell_type": "code",
   "execution_count": 49,
   "metadata": {},
   "outputs": [
    {
     "data": {
      "text/plain": [
       "MultinomialNB()"
      ]
     },
     "execution_count": 49,
     "metadata": {},
     "output_type": "execute_result"
    }
   ],
   "source": [
    "multinm_clf = MultinomialNB()\n",
    "multinm_clf.fit(X_train, y_train)"
   ]
  },
  {
   "cell_type": "code",
   "execution_count": 68,
   "metadata": {},
   "outputs": [],
   "source": [
    "y_pred_2 = multinm_clf.predict(X_test)\n"
   ]
  },
  {
   "cell_type": "code",
   "execution_count": 51,
   "metadata": {},
   "outputs": [
    {
     "data": {
      "text/plain": [
       "array([[7246,   98],\n",
       "       [  91, 4589]])"
      ]
     },
     "execution_count": 51,
     "metadata": {},
     "output_type": "execute_result"
    }
   ],
   "source": [
    "red_or_white = confusion_matrix(y_test, y_pred_2)\n",
    "red_or_white"
   ]
  },
  {
   "cell_type": "code",
   "execution_count": 67,
   "metadata": {},
   "outputs": [
    {
     "data": {
      "text/plain": [
       "Text(0.5, 0, 'Predicted Label')"
      ]
     },
     "execution_count": 67,
     "metadata": {},
     "output_type": "execute_result"
    },
    {
     "data": {
      "image/png": "[encoded data removed]",
      "text/plain": [
       "<Figure size 720x720 with 2 Axes>"
      ]
     },
     "metadata": {
      "needs_background": "light"
     },
     "output_type": "display_data"
    }
   ],
   "source": [
    "fig, ax = plt.subplots(figsize=(10,10))\n",
    "plot_confusion_matrix(multinm_clf, X_test, y_test, ax=ax)\n",
    "plt.xticks(rotation = 45, ha=\"right\")\n",
    "plt.title('Confusion Matrix Red/White Wine', fontsize=20)\n",
    "plt.ylabel('True Label', fontsize=20)\n",
    "plt.xlabel('Predicted Label', fontsize=20)"
   ]
  },
  {
   "cell_type": "code",
   "execution_count": 53,
   "metadata": {},
   "outputs": [
    {
     "name": "stdout",
     "output_type": "stream",
     "text": [
      "Accuracy is: 0.9842814371257484\n",
      "Precision is: 0.9866557734204793\n",
      "Recall is: 0.9875971105356413\n"
     ]
    }
   ],
   "source": [
    "true_positive = red_or_white[0][0]\n",
    "false_positive = red_or_white[0][1]\n",
    "false_negative = red_or_white[1][0]\n",
    "true_negative = red_or_white[1][1]\n",
    "print('Accuracy is: {}'.format((true_positive + true_negative)/(true_positive+false_positive+false_negative+true_negative)))\n",
    "print('Precision is: {}'.format(true_positive/(true_positive+false_positive)))\n",
    "print('Recall is: {}'.format(true_positive/(true_positive+false_negative)))\n"
   ]
  },
  {
   "cell_type": "code",
   "execution_count": 54,
   "metadata": {},
   "outputs": [],
   "source": [
    "# neg_class_prob_sorted = multinm_clf.feature_log_prob_[0, :].argsort()\n",
    "# pos_class_prob_sorted = multinm_clf.feature_log_prob_[1, :].argsort()\n",
    "\n",
    "# print(np.take(count_vect.get_feature_names(), neg_class_prob_sorted[:10]))\n",
    "# print(np.take(count_vect.get_feature_names(), pos_class_prob_sorted[:10]))"
   ]
  },
  {
   "cell_type": "code",
   "execution_count": 55,
   "metadata": {},
   "outputs": [],
   "source": [
    "feat = multinm_clf.feature_log_prob_.argsort()"
   ]
  },
  {
   "cell_type": "code",
   "execution_count": 56,
   "metadata": {},
   "outputs": [
    {
     "name": "stdout",
     "output_type": "stream",
     "text": [
      "['silky' 'character' 'blend' 'cab' 'fruity' 'blackberries' 'herbal' 'one'\n",
      " 'balanced' 'juicy' 'complex' 'barrel' 'age' 'smooth' 'spicy' 'new'\n",
      " 'fresh' 'bodied' 'wood' 'vanilla' 'vineyard' 'bit' 'light' 'smoky'\n",
      " 'texture' 'pepper' 'fine' 'cassis' 'cola' 'firm' 'structure' 'currant'\n",
      " 'fruits' 'full' 'raspberry' 'tannic' 'cherries' 'plum' 'well' 'chocolate'\n",
      " 'dark' 'spice' 'shows' 'berry' 'soft' 'blackberry' 'rich' 'black'\n",
      " 'cherry' 'tannins']\n",
      "['stone' 'finishes' 'offers' 'hints' 'one' 'buttered' 'bit' 'mouth'\n",
      " 'medium' 'bright' 'tart' 'fruity' 'character' 'apricot' 'bodied' 'blanc'\n",
      " 'touch' 'minerality' 'balanced' 'long' 'orange' 'mineral' 'creamy'\n",
      " 'grapefruit' 'light' 'style' 'well' 'soft' 'texture' 'honey' 'melon'\n",
      " 'spice' 'fruits' 'shows' 'toast' 'full' 'clean' 'tropical' 'vanilla'\n",
      " 'lime' 'pineapple' 'pear' 'rich' 'lemon' 'fresh' 'peach' 'green' 'crisp'\n",
      " 'citrus' 'apple']\n"
     ]
    }
   ],
   "source": [
    "#top words being used for classifier\n",
    "\n",
    "np.set_printoptions(threshold=sys.maxsize)\n",
    "\n",
    "a = np.take(count_vec_2.get_feature_names(), feat[-10:])[0]\n",
    "print(a[-50:])\n",
    "b = np.take(count_vec_2.get_feature_names(), feat[-10:])[1]\n",
    "print(b[-50:])"
   ]
  },
  {
   "cell_type": "code",
   "execution_count": 57,
   "metadata": {},
   "outputs": [
    {
     "data": {
      "text/plain": [
       "array(['Red', 'White'], dtype='<U5')"
      ]
     },
     "execution_count": 57,
     "metadata": {},
     "output_type": "execute_result"
    }
   ],
   "source": [
    "multinm_clf.classes_"
   ]
  },
  {
   "cell_type": "code",
   "execution_count": 58,
   "metadata": {},
   "outputs": [
    {
     "data": {
      "text/plain": [
       "18637"
      ]
     },
     "execution_count": 58,
     "metadata": {},
     "output_type": "execute_result"
    }
   ],
   "source": [
    "multinm_clf.n_features_"
   ]
  },
  {
   "cell_type": "code",
   "execution_count": null,
   "metadata": {},
   "outputs": [],
   "source": []
  },
  {
   "cell_type": "code",
   "execution_count": null,
   "metadata": {},
   "outputs": [],
   "source": []
  },
  {
   "cell_type": "code",
   "execution_count": null,
   "metadata": {},
   "outputs": [],
   "source": []
  }
 ],
 "metadata": {
  "kernelspec": {
   "display_name": "Python 3",
   "language": "python",
   "name": "python3"
  },
  "language_info": {
   "codemirror_mode": {
    "name": "ipython",
    "version": 3
   },
   "file_extension": ".py",
   "mimetype": "text/x-python",
   "name": "python",
   "nbconvert_exporter": "python",
   "pygments_lexer": "ipython3",
   "version": "3.7.9"
  }
 },
 "nbformat": 4,
 "nbformat_minor": 4
}
